{
  "nbformat": 4,
  "nbformat_minor": 0,
  "metadata": {
    "colab": {
      "provenance": [],
      "toc_visible": true
    },
    "kernelspec": {
      "name": "python3",
      "display_name": "Python 3"
    },
    "language_info": {
      "name": "python"
    }
  },
  "cells": [
    {
      "cell_type": "markdown",
      "source": [
        "# Import libraries\n",
        "\n",
        "Here, we ***import*** the necessary **libraries** used in this **notebook**.\n",
        "\n",
        "Procedures:\n",
        "\n",
        "1.   List item\n",
        "2.   List item\n",
        "\n",
        "Steps:\n",
        "\n",
        "*   List item\n",
        "*   List item\n",
        "\n",
        "\n",
        "\n"
      ],
      "metadata": {
        "id": "KY_hi46-wOCH"
      }
    },
    {
      "cell_type": "code",
      "execution_count": null,
      "metadata": {
        "id": "lM7uUdZ9rbUA"
      },
      "outputs": [],
      "source": [
        "import pandas as pd\n",
        "import seaborn as sns\n",
        "import numpy as np\n",
        "from sklearn import svm\n",
        "import matplotlib as plt"
      ]
    },
    {
      "cell_type": "code",
      "source": [
        "! pip install py3dmol"
      ],
      "metadata": {
        "colab": {
          "base_uri": "https://localhost:8080/"
        },
        "id": "UXfC1FePw0Vf",
        "outputId": "9d1b1911-1277-4061-a139-e65b06342eb3"
      },
      "execution_count": null,
      "outputs": [
        {
          "output_type": "stream",
          "name": "stdout",
          "text": [
            "Collecting py3dmol\n",
            "  Downloading py3Dmol-2.3.0-py2.py3-none-any.whl.metadata (1.9 kB)\n",
            "Downloading py3Dmol-2.3.0-py2.py3-none-any.whl (7.0 kB)\n",
            "Installing collected packages: py3dmol\n",
            "Successfully installed py3dmol-2.3.0\n"
          ]
        }
      ]
    },
    {
      "cell_type": "code",
      "source": [
        "import py3Dmol\n",
        "p = py3Dmol.view(query='mmtf:1ycr')\n",
        "p.setStyle({'cartoon': {'color':'spectrum'}})"
      ],
      "metadata": {
        "colab": {
          "base_uri": "https://localhost:8080/",
          "height": 515
        },
        "id": "f4vtsNWtxhLZ",
        "outputId": "a4afe8b9-d070-43f8-e40b-0bb218f2b468"
      },
      "execution_count": null,
      "outputs": [
        {
          "output_type": "display_data",
          "data": {
            "application/3dmoljs_load.v0": "<div id=\"3dmolviewer_17252644815063562\"  style=\"position: relative; width: 640px; height: 480px;\">\n        <p id=\"3dmolwarning_17252644815063562\" style=\"background-color:#ffcccc;color:black\">3Dmol.js failed to load for some reason.  Please check your browser console for error messages.<br></p>\n        </div>\n<script>\n\nvar loadScriptAsync = function(uri){\n  return new Promise((resolve, reject) => {\n    //this is to ignore the existence of requirejs amd\n    var savedexports, savedmodule;\n    if (typeof exports !== 'undefined') savedexports = exports;\n    else exports = {}\n    if (typeof module !== 'undefined') savedmodule = module;\n    else module = {}\n\n    var tag = document.createElement('script');\n    tag.src = uri;\n    tag.async = true;\n    tag.onload = () => {\n        exports = savedexports;\n        module = savedmodule;\n        resolve();\n    };\n  var firstScriptTag = document.getElementsByTagName('script')[0];\n  firstScriptTag.parentNode.insertBefore(tag, firstScriptTag);\n});\n};\n\nif(typeof $3Dmolpromise === 'undefined') {\n$3Dmolpromise = null;\n  $3Dmolpromise = loadScriptAsync('https://cdnjs.cloudflare.com/ajax/libs/3Dmol/2.3.0/3Dmol-min.js');\n}\n\nvar viewer_17252644815063562 = null;\nvar warn = document.getElementById(\"3dmolwarning_17252644815063562\");\nif(warn) {\n    warn.parentNode.removeChild(warn);\n}\n$3Dmolpromise.then(function() {\nviewer_17252644815063562 = $3Dmol.createViewer(document.getElementById(\"3dmolviewer_17252644815063562\"),{backgroundColor:\"white\"});\n$3Dmol.download(\"mmtf:1ycr\", viewer_17252644815063562, {}, function() {\nviewer_17252644815063562.zoomTo();\n\tviewer_17252644815063562.setStyle({\"cartoon\": {\"color\": \"spectrum\"}});\nviewer_17252644815063562.render();\n})\n});\n</script>",
            "text/html": [
              "<div id=\"3dmolviewer_17252644815063562\"  style=\"position: relative; width: 640px; height: 480px;\">\n",
              "        <p id=\"3dmolwarning_17252644815063562\" style=\"background-color:#ffcccc;color:black\">3Dmol.js failed to load for some reason.  Please check your browser console for error messages.<br></p>\n",
              "        </div>\n",
              "<script>\n",
              "\n",
              "var loadScriptAsync = function(uri){\n",
              "  return new Promise((resolve, reject) => {\n",
              "    //this is to ignore the existence of requirejs amd\n",
              "    var savedexports, savedmodule;\n",
              "    if (typeof exports !== 'undefined') savedexports = exports;\n",
              "    else exports = {}\n",
              "    if (typeof module !== 'undefined') savedmodule = module;\n",
              "    else module = {}\n",
              "\n",
              "    var tag = document.createElement('script');\n",
              "    tag.src = uri;\n",
              "    tag.async = true;\n",
              "    tag.onload = () => {\n",
              "        exports = savedexports;\n",
              "        module = savedmodule;\n",
              "        resolve();\n",
              "    };\n",
              "  var firstScriptTag = document.getElementsByTagName('script')[0];\n",
              "  firstScriptTag.parentNode.insertBefore(tag, firstScriptTag);\n",
              "});\n",
              "};\n",
              "\n",
              "if(typeof $3Dmolpromise === 'undefined') {\n",
              "$3Dmolpromise = null;\n",
              "  $3Dmolpromise = loadScriptAsync('https://cdnjs.cloudflare.com/ajax/libs/3Dmol/2.3.0/3Dmol-min.js');\n",
              "}\n",
              "\n",
              "var viewer_17252644815063562 = null;\n",
              "var warn = document.getElementById(\"3dmolwarning_17252644815063562\");\n",
              "if(warn) {\n",
              "    warn.parentNode.removeChild(warn);\n",
              "}\n",
              "$3Dmolpromise.then(function() {\n",
              "viewer_17252644815063562 = $3Dmol.createViewer(document.getElementById(\"3dmolviewer_17252644815063562\"),{backgroundColor:\"white\"});\n",
              "$3Dmol.download(\"mmtf:1ycr\", viewer_17252644815063562, {}, function() {\n",
              "viewer_17252644815063562.zoomTo();\n",
              "\tviewer_17252644815063562.setStyle({\"cartoon\": {\"color\": \"spectrum\"}});\n",
              "viewer_17252644815063562.render();\n",
              "})\n",
              "});\n",
              "</script>"
            ]
          },
          "metadata": {}
        },
        {
          "output_type": "execute_result",
          "data": {
            "text/plain": [
              "<py3Dmol.view at 0x7b43ed9f36d0>"
            ]
          },
          "metadata": {},
          "execution_count": 13
        }
      ]
    },
    {
      "cell_type": "markdown",
      "source": [
        "Example text goes here. Blah blah blah."
      ],
      "metadata": {
        "id": "bothIfvkrqKy"
      }
    },
    {
      "cell_type": "markdown",
      "source": [
        "# Heading 1\n",
        "\n",
        "This represnets the contents of heading 1"
      ],
      "metadata": {
        "id": "BiGHb4amr6YS"
      }
    },
    {
      "cell_type": "code",
      "source": [
        "a = 1"
      ],
      "metadata": {
        "id": "X6JMKZy9sNo5"
      },
      "execution_count": null,
      "outputs": []
    },
    {
      "cell_type": "code",
      "source": [
        "b = \"data\""
      ],
      "metadata": {
        "id": "f_UlXOgnsUPl"
      },
      "execution_count": null,
      "outputs": []
    },
    {
      "cell_type": "code",
      "source": [
        "c = [1, 2, 3, 4, 5]"
      ],
      "metadata": {
        "id": "gwtzROHvsX95"
      },
      "execution_count": null,
      "outputs": []
    },
    {
      "cell_type": "code",
      "source": [
        "d = [\"John\", \"Sally\", \"Joe\", \"Susy\", \"Jack\"]"
      ],
      "metadata": {
        "id": "helqK_KOscFX"
      },
      "execution_count": null,
      "outputs": []
    },
    {
      "cell_type": "code",
      "source": [
        "for i,j in zip(c,d):\n",
        "    if i == 1:\n",
        "        print(j + \" has \" + str(i) + ' car.')\n",
        "    else:\n",
        "        print(j + \" has \" + str(i) + ' cars.')"
      ],
      "metadata": {
        "colab": {
          "base_uri": "https://localhost:8080/"
        },
        "id": "c13gSzeHsm9q",
        "outputId": "fecf8e41-6cb9-4176-9794-e9ddb583493a"
      },
      "execution_count": null,
      "outputs": [
        {
          "output_type": "stream",
          "name": "stdout",
          "text": [
            "John has 1 car.\n",
            "Sally has 2 cars.\n",
            "Joe has 3 cars.\n",
            "Susy has 4 cars.\n",
            "Jack has 5 cars.\n"
          ]
        }
      ]
    },
    {
      "cell_type": "markdown",
      "source": [
        "##Heading 1.1\n",
        "\n",
        "Blah blah blah"
      ],
      "metadata": {
        "id": "MgNaHv9UtHRV"
      }
    },
    {
      "cell_type": "markdown",
      "source": [
        "## Heading 1.2\n"
      ],
      "metadata": {
        "id": "Xtd9HpZdvHuP"
      }
    },
    {
      "cell_type": "code",
      "source": [
        "var1 = 5"
      ],
      "metadata": {
        "id": "AZctw-aEtVj_"
      },
      "execution_count": null,
      "outputs": []
    },
    {
      "cell_type": "markdown",
      "source": [
        "## Heading 1.3"
      ],
      "metadata": {
        "id": "oXWTTokFtYYC"
      }
    },
    {
      "cell_type": "markdown",
      "source": [
        "### Heading 1.3.1\n"
      ],
      "metadata": {
        "id": "5i60sxznvn9a"
      }
    },
    {
      "cell_type": "markdown",
      "source": [
        "#### Heading 1.3.1.1"
      ],
      "metadata": {
        "id": "cS7uCz0mvw-C"
      }
    }
  ]
}