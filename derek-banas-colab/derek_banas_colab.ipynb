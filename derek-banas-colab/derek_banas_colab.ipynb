{
  "nbformat": 4,
  "nbformat_minor": 0,
  "metadata": {
    "colab": {
      "provenance": []
    },
    "kernelspec": {
      "name": "python3",
      "display_name": "Python 3"
    },
    "language_info": {
      "name": "python"
    }
  },
  "cells": [
    {
      "cell_type": "markdown",
      "source": [
        "# **Basics**"
      ],
      "metadata": {
        "id": "rC5LgEan7Y-I"
      }
    },
    {
      "cell_type": "code",
      "execution_count": 12,
      "metadata": {
        "colab": {
          "base_uri": "https://localhost:8080/"
        },
        "id": "KdNewp_b7BDO",
        "outputId": "6cafc792-57cb-4367-e599-3a070572c0fb"
      },
      "outputs": [
        {
          "output_type": "stream",
          "name": "stdout",
          "text": [
            "Hello World\n",
            "Sarvesh\n",
            "2 + 2 = 4\n",
            "2 - 2 = 0\n",
            "2 * 2 = 4\n",
            "2 / 2 = 1.0\n",
            "2 % 2 = 0\n",
            "2 ** 2 = 4\n",
            "2 // 2 = 1\n",
            "3 + 2 - 5 * 8 / 2 = -15.0\n",
            "(3 + 2 - 5) * (8 / 2) = 0.0\n",
            "This is a quote from Steve Jobs : \"Everybody should learn to program a computer, \n",
            "because it teaches you how to think.\n",
            "\n",
            "\n",
            "Printing without newlines\n"
          ]
        }
      ],
      "source": [
        "# Imports\n",
        "import random\n",
        "import sys\n",
        "import os\n",
        "\n",
        "print(\"Hello World\")\n",
        "\n",
        "# Comments\n",
        "'''\n",
        "Multiline  Comments\n",
        "'''\n",
        "\n",
        "# Variables\n",
        "name = \"Sarvesh\"\n",
        "print(name)\n",
        "\n",
        "# Data Types : Numbers, Strings, Lists, Tuples, Dictionaries\n",
        "\n",
        "\n",
        "# Arithmetic Operators : +, -, *, /, %(modulo), **(power), //(floor division)\n",
        "print(\"2 + 2 =\", 2+2)\n",
        "print(\"2 - 2 =\", 2-2)\n",
        "print(\"2 * 2 =\", 2*2)\n",
        "print(\"2 / 2 =\", 2/2)\n",
        "print(\"2 % 2 =\", 2%2)\n",
        "print(\"2 ** 2 =\", 2**2)\n",
        "print(\"2 // 2 =\", 2//2)\n",
        "\n",
        "# Order of Operator matters : *,/ before +,-\n",
        "# Braces\n",
        "print(\"3 + 2 - 5 * 8 / 2 =\", 3 + 2 - 5 * 8 / 2)\n",
        "print(\"(3 + 2 - 5) * (8 / 2) =\", (3 + 2 - 5) * (8 / 2))\n",
        "\n",
        "# String - Single or double quotes. Backlash if quote needs to be added inside string\n",
        "# Use underscores for multi word variable names. eg: multi_line_quote\n",
        "quote = \"from Steve Jobs : \\\"\"\n",
        "\n",
        "multi_line_quote = '''Everybody should learn to program a computer,\n",
        "because it teaches you how to think.'''\n",
        "\n",
        "new_string = quote + multi_line_quote\n",
        "\n",
        "# String formatting\n",
        "print(\"%s %s%s\" %('This is a quote', quote, multi_line_quote))\n",
        "\n",
        "# Newline  formatting. \\n for newline\n",
        "print(\"\\n\")\n",
        "# Set end to desired string to replace newline at the end while using print\n",
        "print(\"Printing without \", end=\"\")\n",
        "print(\"newlines\")\n",
        "\n"
      ]
    },
    {
      "cell_type": "markdown",
      "source": [
        "# **Lists**"
      ],
      "metadata": {
        "id": "win6-23oAMNe"
      }
    },
    {
      "cell_type": "code",
      "source": [
        "grocery_list = ['Eggs','Bananas','Apples', 'Bread','Milk','Onions']\n",
        "\n",
        "# Print second item in list\n",
        "print(\"Second Item\", grocery_list[1])\n",
        "\n",
        "# Update value in list\n",
        "grocery_list[1] = \"Cheese\"\n",
        "print(\"Second Item\", grocery_list[1])\n",
        "\n",
        "# Print subset of list. (Inclusive and exclusive of lower and upper bound respectively)\n",
        "print(grocery_list[2:4])\n",
        "\n",
        "# List of List\n",
        "other_items = ['Soap', 'Shampoo', 'Donuts']\n",
        "to_do_list = [other_items, grocery_list]\n",
        "print(to_do_list)\n",
        "\n",
        "# Access second item from second list\n",
        "print((to_do_list[1][2]))\n",
        "\n",
        "# Append to list\n",
        "grocery_list.append('Tomatoes')\n",
        "print(to_do_list)\n",
        "\n",
        "# Insert at index\n",
        "grocery_list.insert(1,\"Orange Juice\")\n",
        "print(grocery_list)\n",
        "\n",
        "# Remove by value\n",
        "grocery_list.remove(\"Orange Juice\")\n",
        "print(grocery_list)\n",
        "\n",
        "# Sort\n",
        "grocery_list.sort()\n",
        "\n",
        "# Reverse\n",
        "grocery_list.reverse()\n",
        "\n",
        "# Delete at specific index\n",
        "del grocery_list[3]\n",
        "\n",
        "print(to_do_list)\n",
        "\n",
        "# Combine list like strings\n",
        "to_do_list2 = other_items + grocery_list\n",
        "print(to_do_list2)\n",
        "\n",
        "# Length, Minimum and Maximum in List\n",
        "print(len(to_do_list2))\n",
        "print(max(to_do_list2))\n",
        "print(min(to_do_list2))"
      ],
      "metadata": {
        "id": "AAV6xo8xANeJ",
        "colab": {
          "base_uri": "https://localhost:8080/"
        },
        "outputId": "1c35125c-b63e-4b4f-b84e-b0bea12a6029"
      },
      "execution_count": 37,
      "outputs": [
        {
          "output_type": "stream",
          "name": "stdout",
          "text": [
            "Second Item Bananas\n",
            "Second Item Cheese\n",
            "['Apples', 'Bread']\n",
            "[['Soap', 'Shampoo', 'Donuts'], ['Eggs', 'Cheese', 'Apples', 'Bread', 'Milk', 'Onions']]\n",
            "Apples\n",
            "[['Soap', 'Shampoo', 'Donuts'], ['Eggs', 'Cheese', 'Apples', 'Bread', 'Milk', 'Onions', 'Tomatoes']]\n",
            "['Eggs', 'Orange Juice', 'Cheese', 'Apples', 'Bread', 'Milk', 'Onions', 'Tomatoes']\n",
            "['Eggs', 'Cheese', 'Apples', 'Bread', 'Milk', 'Onions', 'Tomatoes']\n",
            "[['Soap', 'Shampoo', 'Donuts'], ['Tomatoes', 'Onions', 'Milk', 'Cheese', 'Bread', 'Apples']]\n",
            "['Soap', 'Shampoo', 'Donuts', 'Tomatoes', 'Onions', 'Milk', 'Cheese', 'Bread', 'Apples']\n",
            "9\n",
            "Tomatoes\n",
            "Apples\n"
          ]
        }
      ]
    },
    {
      "cell_type": "markdown",
      "source": [
        "# **Tuple**"
      ],
      "metadata": {
        "id": "1q2NsZ50CVgz"
      }
    },
    {
      "cell_type": "code",
      "source": [
        "# Tuple : Similar to List except it is immutable and surrounded by '()' insted of '[]'\n",
        "\n",
        "e_tuple = (2, 7, 1, 8, 2, 6)\n",
        "\n",
        "# Changing tuple by converting to list and changing it back Tuple after modification\n",
        "new_tuple = list(e_tuple)\n",
        "new_list = tuple(new_tuple)\n",
        "\n",
        "# Length, Minimum and Maximum are same as list\n",
        "print(len(e_tuple))\n",
        "print(min(e_tuple))\n",
        "print(max(e_tuple))"
      ],
      "metadata": {
        "colab": {
          "base_uri": "https://localhost:8080/"
        },
        "id": "rTcqgJhHCWSM",
        "outputId": "39893cb5-4d57-4684-ad2c-3828e49ee401"
      },
      "execution_count": 17,
      "outputs": [
        {
          "output_type": "stream",
          "name": "stdout",
          "text": [
            "6\n",
            "1\n",
            "8\n"
          ]
        }
      ]
    },
    {
      "cell_type": "markdown",
      "source": [
        "# **Dictionary/Maps**"
      ],
      "metadata": {
        "id": "xO3pq1zlDyzW"
      }
    },
    {
      "cell_type": "code",
      "source": [
        "# Dictionary : Uses curly braces\n",
        "character_cast = {'Dave Bowman' : 'Keir Dullea',\n",
        "                  'Frank Poole' : 'Gary Lockwood',\n",
        "                  'Heywood Floyd' : 'William Sylvester',\n",
        "                  'Elena' : 'Margaret Tyzack',\n",
        "                  'Ralph Halvorsen' : 'Robert Beatty',\n",
        "                  'HAL 9000': 'Sean Sullivan'\n",
        "                  }\n",
        "\n",
        "# Access value against key\n",
        "print(character_cast['Frank Poole'])\n",
        "\n",
        "# Delete specific key value pair by key\n",
        "del character_cast['Heywood Floyd']\n",
        "\n",
        "# Update value against key\n",
        "character_cast['HAL 9000'] = 'Douglas Rain'\n",
        "\n",
        "# Length of dictionary\n",
        "print(len(character_cast))\n",
        "\n",
        "# Get value against a key\n",
        "print(character_cast.get(\"HAL 9000\"))\n",
        "\n",
        "# Get list of keys\n",
        "print(character_cast.keys())\n",
        "\n",
        "# Get list of values\n",
        "print(character_cast.values())"
      ],
      "metadata": {
        "colab": {
          "base_uri": "https://localhost:8080/"
        },
        "id": "rllRvMJMDy9O",
        "outputId": "e682d1c0-f410-497d-9402-388f66676933"
      },
      "execution_count": 38,
      "outputs": [
        {
          "output_type": "stream",
          "name": "stdout",
          "text": [
            "Gary Lockwood\n",
            "5\n",
            "Douglas Rain\n",
            "dict_keys(['Dave Bowman', 'Frank Poole', 'Elena', 'Ralph Halvorsen', 'HAL 9000'])\n",
            "dict_values(['Keir Dullea', 'Gary Lockwood', 'Margaret Tyzack', 'Robert Beatty', 'Douglas Rain'])\n"
          ]
        }
      ]
    },
    {
      "cell_type": "markdown",
      "source": [
        "# **Conditionals**"
      ],
      "metadata": {
        "id": "4LVJh0K3GWw-"
      }
    },
    {
      "cell_type": "code",
      "source": [
        "# Conditionals\n",
        "# Conditional Construct : if, else, elif\n",
        "# Relational Operator : == != > >= <=\n",
        "# Boolean Operator : and, or, not\n",
        "\n",
        "grade = 75\n",
        "\n",
        "if grade > 39 :\n",
        "  print('You have passed the exam.')\n",
        "else :\n",
        "  print('You have failed the exam.')\n",
        "\n",
        "if grade >= 90 :\n",
        "  print(\"Your grade is A\")\n",
        "elif grade >= 40 :\n",
        "  print('Your grade is B')\n",
        "else:\n",
        "  print(\"Your grade is C\")\n",
        "\n",
        "if ((grade >=80) and (grade <= 99)) :\n",
        "  print(\"Your new grade is A\")\n",
        "elif (grade == 40) or (grade > 40):\n",
        "  print(\"Your new grade is B\")\n",
        "elif not(grade != 100):\n",
        "  print(\"Your new grade is S\")\n",
        "else:\n",
        "  print(\"You new grade is C \")"
      ],
      "metadata": {
        "colab": {
          "base_uri": "https://localhost:8080/"
        },
        "id": "hgo7ru4tGZoE",
        "outputId": "5be249cc-7086-413d-9159-85e040da6568"
      },
      "execution_count": 21,
      "outputs": [
        {
          "output_type": "stream",
          "name": "stdout",
          "text": [
            "You have passed the exam.\n",
            "Your grade is B\n",
            "Your new grade is B\n"
          ]
        }
      ]
    },
    {
      "cell_type": "markdown",
      "source": [
        "# **For Loop**"
      ],
      "metadata": {
        "id": "qsTrR6U_IgGZ"
      }
    },
    {
      "cell_type": "code",
      "source": [
        "# For loop\n",
        "# Range is inclusive and exclusive of lower and upper bound respectively\n",
        "for x in range(0, 10):\n",
        "  print(x, ' ', end=\"\")\n",
        "\n",
        "print('\\n')\n",
        "\n",
        "grocery_list = ['Juice', 'Tomatoes', 'Potatoes', 'Bananas']\n",
        "\n",
        "# Looping over list\n",
        "for y in grocery_list:\n",
        "  print(y)\n",
        "\n",
        "for x in [2, 4, 6, 8, 10]:\n",
        "  print(x)\n",
        "\n",
        "# Looping over nested list\n",
        "num_list = [[1,2,3],[10,20,30],[100,200,300]]\n",
        "\n",
        "for x in range(0,3):\n",
        "  for y in range(0,3):\n",
        "    print(num_list[x][y])"
      ],
      "metadata": {
        "id": "7gH_bCv7IiXr"
      },
      "execution_count": null,
      "outputs": []
    },
    {
      "cell_type": "markdown",
      "source": [
        "# **While Loop**"
      ],
      "metadata": {
        "id": "pCbxIAR7JkR-"
      }
    },
    {
      "cell_type": "code",
      "source": [
        "# While loop\n",
        "\n",
        "random_num = random.randrange(0,100)\n",
        "while(random_num != 15):\n",
        "  print(random_num)\n",
        "  random_num = random.randrange(0,100)\n",
        "\n",
        "# Use while loop like for loop\n",
        "\n",
        "i = 0\n",
        "while(i <= 45):\n",
        "  if(i%2 == 1):\n",
        "    print(i)\n",
        "  elif(i == 15):\n",
        "    break\n",
        "  else:\n",
        "    i += 1\n",
        "    continue\n",
        "  i += 1"
      ],
      "metadata": {
        "colab": {
          "base_uri": "https://localhost:8080/"
        },
        "id": "GqoT8L2sJkaj",
        "outputId": "41eacc81-61c6-4a73-afad-e5e518c6b706"
      },
      "execution_count": 22,
      "outputs": [
        {
          "output_type": "stream",
          "name": "stdout",
          "text": [
            "42\n",
            "79\n",
            "46\n",
            "45\n",
            "61\n",
            "39\n",
            "18\n",
            "45\n",
            "56\n",
            "30\n",
            "34\n",
            "51\n",
            "80\n",
            "80\n",
            "21\n",
            "25\n",
            "75\n",
            "21\n",
            "79\n",
            "66\n",
            "95\n",
            "35\n",
            "56\n",
            "25\n",
            "98\n",
            "64\n",
            "97\n",
            "50\n",
            "38\n",
            "60\n",
            "7\n",
            "38\n",
            "68\n",
            "2\n",
            "19\n",
            "96\n",
            "61\n",
            "44\n",
            "11\n",
            "31\n",
            "17\n",
            "69\n",
            "75\n",
            "69\n",
            "87\n",
            "32\n",
            "71\n",
            "26\n",
            "46\n",
            "31\n",
            "10\n",
            "17\n",
            "11\n",
            "77\n",
            "1\n",
            "55\n",
            "82\n",
            "4\n",
            "81\n",
            "77\n",
            "48\n",
            "91\n",
            "82\n",
            "90\n",
            "41\n",
            "48\n",
            "8\n",
            "45\n",
            "26\n",
            "52\n",
            "84\n",
            "71\n",
            "99\n",
            "91\n",
            "51\n",
            "51\n",
            "96\n",
            "86\n",
            "51\n",
            "82\n",
            "64\n",
            "88\n",
            "84\n",
            "29\n",
            "54\n",
            "50\n",
            "80\n",
            "97\n",
            "98\n",
            "23\n",
            "7\n",
            "50\n",
            "79\n",
            "83\n",
            "52\n",
            "4\n",
            "90\n",
            "1\n",
            "89\n",
            "96\n",
            "90\n",
            "81\n",
            "26\n",
            "8\n",
            "21\n",
            "86\n",
            "51\n",
            "21\n",
            "4\n",
            "72\n",
            "46\n",
            "66\n",
            "21\n",
            "57\n",
            "41\n",
            "81\n",
            "80\n",
            "98\n",
            "29\n",
            "56\n",
            "68\n",
            "72\n",
            "19\n",
            "31\n",
            "44\n",
            "35\n",
            "38\n",
            "85\n",
            "91\n",
            "69\n",
            "19\n",
            "11\n",
            "86\n",
            "12\n",
            "46\n",
            "98\n",
            "52\n",
            "44\n",
            "55\n",
            "58\n",
            "78\n",
            "14\n",
            "61\n",
            "4\n",
            "20\n",
            "96\n",
            "69\n",
            "72\n",
            "70\n",
            "40\n",
            "89\n",
            "70\n",
            "56\n",
            "27\n",
            "9\n",
            "42\n",
            "83\n",
            "53\n",
            "76\n",
            "48\n",
            "12\n",
            "86\n",
            "89\n",
            "16\n",
            "73\n",
            "32\n",
            "5\n",
            "41\n",
            "90\n",
            "37\n",
            "84\n",
            "57\n",
            "76\n",
            "71\n",
            "71\n",
            "74\n",
            "87\n",
            "85\n",
            "60\n",
            "89\n",
            "10\n",
            "7\n",
            "21\n",
            "52\n",
            "54\n",
            "11\n",
            "66\n",
            "1\n",
            "3\n",
            "5\n",
            "7\n",
            "9\n",
            "11\n",
            "13\n",
            "15\n",
            "17\n",
            "19\n",
            "21\n",
            "23\n",
            "25\n",
            "27\n",
            "29\n",
            "31\n",
            "33\n",
            "35\n",
            "37\n",
            "39\n",
            "41\n",
            "43\n",
            "45\n"
          ]
        }
      ]
    },
    {
      "cell_type": "markdown",
      "source": [
        "# **Functions**"
      ],
      "metadata": {
        "id": "0lcUzCdDKliA"
      }
    },
    {
      "cell_type": "code",
      "source": [
        "def addNumberPlusOne(fNum, lNum):\n",
        "  sumNum = fNum + lNum + 1\n",
        "  return sumNum\n",
        "\n",
        "result = addNumberPlusOne(2,2)\n",
        "print(result)"
      ],
      "metadata": {
        "id": "S7atDnCqKpEB",
        "colab": {
          "base_uri": "https://localhost:8080/"
        },
        "outputId": "57ba965d-8a47-48b5-f570-caec20025833"
      },
      "execution_count": 23,
      "outputs": [
        {
          "output_type": "stream",
          "name": "stdout",
          "text": [
            "5\n"
          ]
        }
      ]
    },
    {
      "cell_type": "markdown",
      "source": [
        "# **Input & Strings**"
      ],
      "metadata": {
        "id": "Ro7Awc8aLEOj"
      }
    },
    {
      "cell_type": "code",
      "source": [
        "print('What is your name')\n",
        "\n",
        "name = sys.stdin.readline()\n",
        "\n",
        "print('Hello', name)\n",
        "\n",
        "long_string = \"Value of Euler's number is 3.14\"\n",
        "\n",
        "# Print first 4 characters\n",
        "print(long_string[0:4])\n",
        "\n",
        "# Print last 5 characters\n",
        "print(long_string[-5:])\n",
        "\n",
        "# Print upto last 5 characters\n",
        "print(long_string[:-5])\n",
        "\n",
        "# Concatenate Strings\n",
        "print(long_string[:5] + \" of Euler's number is 2.7182818\")\n",
        "\n",
        "# String formatting for character, string, integer, float\n",
        "print(\"Value of %c is %.5f and it is a %s number\" % ('π', 3.14159265358, 'real'))\n",
        "\n",
        "# Capitalize string\n",
        "print(long_string.capitalize())\n",
        "\n",
        "# Find match in string\n",
        "print(long_string.find(\"Euler's\"))\n",
        "\n",
        "# Is String Alphanumeric\n",
        "print(long_string.isalnum())\n",
        "\n",
        "# Length of string\n",
        "print(len(long_string))\n",
        "\n",
        "# Replace match in string\n",
        "print(long_string.replace(\"Euler's number\", \"pi\"))\n",
        "\n",
        "# Strip Whitespace\n",
        "print(long_string.strip())\n",
        "\n",
        "# Split string\n",
        "quote_list = long_string.split(\" \")\n",
        "print(quote_list)"
      ],
      "metadata": {
        "colab": {
          "base_uri": "https://localhost:8080/"
        },
        "id": "sY9tE5AfLEeM",
        "outputId": "3186b805-8011-43f6-de6a-1acc98c5e955"
      },
      "execution_count": 31,
      "outputs": [
        {
          "output_type": "stream",
          "name": "stdout",
          "text": [
            "What is your name\n",
            "Hello \n",
            "Valu\n",
            " 3.14\n",
            "Value of Euler's number is\n",
            "Value of Euler's number is 2.7182818\n",
            "Value of π is 3.14159 and it is a real number\n",
            "Value of euler's number is 3.14\n",
            "9\n",
            "False\n",
            "31\n",
            "Value of pi is 3.14\n",
            "Value of Euler's number is 3.14\n",
            "['Value', 'of', \"Euler's\", 'number', 'is', '3.14']\n"
          ]
        }
      ]
    },
    {
      "cell_type": "markdown",
      "source": [
        "# **File IO**"
      ],
      "metadata": {
        "id": "HoPJB3-KOTbh"
      }
    },
    {
      "cell_type": "code",
      "source": [
        "# File Mode : wb to write, ab+ to read & append to file (Also creates and opens the file)\n",
        "\n",
        "# Writing to file\n",
        "test_file = open(\"test.txt\", \"wb\")\n",
        "\n",
        "print(test_file.mode)\n",
        "print(test_file.name)\n",
        "\n",
        "test_file.write(bytes(\"Hi! This is first and the only line in this txt\\n\",'UTF-8'))\n",
        "\n",
        "test_file.close()\n",
        "\n",
        "# Open file\n",
        "test_file = open(\"test.txt\",\"r+\")\n",
        "\n",
        "# Read file\n",
        "text_in_file = test_file.read()\n",
        "print(text_in_file)\n",
        "\n",
        "# Delete file\n",
        "os.remove(\"test.txt\")"
      ],
      "metadata": {
        "id": "hElqzdcwOToQ",
        "colab": {
          "base_uri": "https://localhost:8080/"
        },
        "outputId": "13a57cf4-0a38-4674-c367-72b7d8cc67c9"
      },
      "execution_count": 39,
      "outputs": [
        {
          "output_type": "stream",
          "name": "stdout",
          "text": [
            "wb\n",
            "test.txt\n",
            "Hi! This is first and the only line in this txt\n",
            "\n"
          ]
        }
      ]
    },
    {
      "cell_type": "markdown",
      "source": [
        "# **Objects**"
      ],
      "metadata": {
        "id": "UhbAyMfcPhQv"
      }
    },
    {
      "cell_type": "code",
      "source": [
        "# Class :\n",
        "# 1. __ makes the variable private\n",
        "# 2. 'self' is used to refer to the object itself.\n",
        "# 3. Constructor initializes the object\n",
        "\n",
        "class Animal:\n",
        "  __name = \"\"\n",
        "  __height = 0\n",
        "  __weight = 0\n",
        "  __sound = 0\n",
        "\n",
        "  def __init__(self, name, height, weight, sound):\n",
        "    self.__name = name\n",
        "    self.__height = height\n",
        "    self.__weight = weight\n",
        "    self.__sound = sound\n",
        "\n",
        "  def set_name(self, name):\n",
        "    self.__name = name\n",
        "\n",
        "  def get_name(self):\n",
        "    return self.__name\n",
        "\n",
        "  def set_height(self, height):\n",
        "    self.__height = height\n",
        "\n",
        "  def get_height(self):\n",
        "    return self.__height\n",
        "\n",
        "  def set_weight(self, weight):\n",
        "    self.__weight = weight\n",
        "\n",
        "  def get_weight(self):\n",
        "    return self.__weight\n",
        "\n",
        "  def set_sound(self, sound):\n",
        "    self.__sound = sound\n",
        "\n",
        "  def get_sound(self):\n",
        "    return self.__sound\n",
        "\n",
        "  def get_type(self):\n",
        "    print(\"Animal\")\n",
        "\n",
        "  def toString(self):\n",
        "    return \"{} is {} cm tall and {} kilograms and say {}\".format(self.__name,\n",
        "                                                                 self.__height,\n",
        "                                                                 self.__weight,\n",
        "                                                                 self.__sound)\n",
        "\n",
        "cat = Animal('Whiskers', 33, 10, 'Meow')\n",
        "print(cat.toString())\n",
        "\n",
        "# Inheritance\n",
        "class Dog(Animal):\n",
        "  __owner = \"\"\n",
        "\n",
        "  def __init__(self, name, height, weight, sound, owner):\n",
        "    self.__owner = owner\n",
        "    super(Dog, self).__init__(name, height, weight, sound)\n",
        "\n",
        "  def set_owner(self, owner):\n",
        "    self.__owner = owner\n",
        "\n",
        "  def get_owner(self):\n",
        "    return self.__owner\n",
        "\n",
        "  def get_type(self):\n",
        "    print(\"Dog\")\n",
        "\n",
        "  def toString(self):\n",
        "    return \"{} is {} cm tall and {} kilograms and say {}. His owner is {}\".format(self.get_name(),\n",
        "                                                                                  self.get_height(),\n",
        "                                                                                  self.get_weight(),\n",
        "                                                                                  self.get_sound(),\n",
        "                                                                                  self.get_owner())\n",
        "\n",
        "  def multiple_sounds(self, how_many=None):\n",
        "    if how_many is None:\n",
        "      print(self.get_sound())\n",
        "    else:\n",
        "      print(self.get_sound() * how_many)\n",
        "\n",
        "spot = Dog(\"Jonny\", 53, 27, \"Ruff\", \"Colin\")\n",
        "print(spot.toString())\n",
        "\n",
        "class AnimalTesting:\n",
        "  def get_type(self, animal):\n",
        "    animal.get_type()\n",
        "\n",
        "test_animals = AnimalTesting()\n",
        "\n",
        "test_animals.get_type(cat)\n",
        "test_animals.get_type(spot)\n",
        "\n",
        "spot.multiple_sounds(4)\n",
        "spot.multiple_sounds()"
      ],
      "metadata": {
        "colab": {
          "base_uri": "https://localhost:8080/"
        },
        "id": "lX0NYE0GPkdr",
        "outputId": "426025d1-2dad-4055-8dd2-c1f9195163bb"
      },
      "execution_count": 40,
      "outputs": [
        {
          "output_type": "stream",
          "name": "stdout",
          "text": [
            "Whiskers is 33 cm tall and 10 kilograms and say Meow\n",
            "Jonny is 53 cm tall and 27 kilograms and say Ruff. His owner is Colin\n",
            "Animal\n",
            "Dog\n",
            "RuffRuffRuffRuff\n",
            "Ruff\n"
          ]
        }
      ]
    }
  ]
}