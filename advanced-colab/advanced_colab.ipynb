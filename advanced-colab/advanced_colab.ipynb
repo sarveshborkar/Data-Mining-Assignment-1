{
  "nbformat": 4,
  "nbformat_minor": 0,
  "metadata": {
    "colab": {
      "provenance": []
    },
    "kernelspec": {
      "name": "python3",
      "display_name": "Python 3"
    },
    "language_info": {
      "name": "python"
    }
  },
  "cells": [
    {
      "cell_type": "markdown",
      "source": [
        "# **Basics**"
      ],
      "metadata": {
        "id": "GaArtF4y2XqH"
      }
    },
    {
      "cell_type": "markdown",
      "source": [
        "## Download from URL"
      ],
      "metadata": {
        "id": "QVxqoTdi046S"
      }
    },
    {
      "cell_type": "code",
      "execution_count": null,
      "metadata": {
        "id": "gMF433iDyFFE",
        "colab": {
          "base_uri": "https://localhost:8080/"
        },
        "outputId": "ed7e0227-acd5-49ab-a24e-77e5cbc01a9a"
      },
      "outputs": [
        {
          "output_type": "stream",
          "name": "stdout",
          "text": [
            "--2024-09-07 20:02:32--  https://github.com/jqlang/jq/archive/refs/tags/jq-1.7.1.zip\n",
            "Resolving github.com (github.com)... 140.82.114.4\n",
            "Connecting to github.com (github.com)|140.82.114.4|:443... connected.\n",
            "HTTP request sent, awaiting response... 302 Found\n",
            "Location: https://codeload.github.com/jqlang/jq/zip/refs/tags/jq-1.7.1 [following]\n",
            "--2024-09-07 20:02:32--  https://codeload.github.com/jqlang/jq/zip/refs/tags/jq-1.7.1\n",
            "Resolving codeload.github.com (codeload.github.com)... 140.82.112.9\n",
            "Connecting to codeload.github.com (codeload.github.com)|140.82.112.9|:443... connected.\n",
            "HTTP request sent, awaiting response... 200 OK\n",
            "Length: 1422882 (1.4M) [application/zip]\n",
            "Saving to: ‘jq-1.7.1.zip’\n",
            "\n",
            "\rjq-1.7.1.zip          0%[                    ]       0  --.-KB/s               \rjq-1.7.1.zip        100%[===================>]   1.36M  --.-KB/s    in 0.02s   \n",
            "\n",
            "2024-09-07 20:02:32 (59.1 MB/s) - ‘jq-1.7.1.zip’ saved [1422882/1422882]\n",
            "\n"
          ]
        }
      ],
      "source": [
        "# Remove existing zip\n",
        "!rm -rf jq*.zip\n",
        "\n",
        "# Download zip file from the url\n",
        "!wget https://github.com/jqlang/jq/archive/refs/tags/jq-1.7.1.zip"
      ]
    },
    {
      "cell_type": "code",
      "source": [
        "# Remove existing folder\n",
        "!rm -rf jq\n",
        "\n",
        "# Unzip into a specified folder\n",
        "!unzip -o -j jq-1.7.1.zip jq-jq-1.7.1/*.* -d jq/"
      ],
      "metadata": {
        "colab": {
          "base_uri": "https://localhost:8080/"
        },
        "id": "nOMgSkGKBt2a",
        "outputId": "8f318484-1be6-46e8-8e5f-d0af1e46007b"
      },
      "execution_count": null,
      "outputs": [
        {
          "output_type": "stream",
          "name": "stdout",
          "text": [
            "Archive:  jq-1.7.1.zip\n",
            "71c2ab509a8628dbbad4bc7b3f98a64aa90d3297\n",
            "  inflating: jq/bug_report.md        \n",
            "  inflating: jq/dependabot.yml       \n",
            "  inflating: jq/ci.yml               \n",
            "  inflating: jq/decnum.yml           \n",
            "  inflating: jq/manpage.yml          \n",
            "  inflating: jq/oniguruma.yml        \n",
            "  inflating: jq/scanbuild.yml        \n",
            "  inflating: jq/valgrind.yml         \n",
            "  inflating: jq/website.yml          \n",
            "  inflating: jq/.gitmodules          \n",
            "  inflating: jq/Makefile.am          \n",
            "  inflating: jq/NEWS.md              \n",
            "  inflating: jq/README.md            \n",
            "  inflating: jq/SECURITY.md          \n",
            "  inflating: jq/compile-ios.sh       \n",
            "  inflating: jq/check-math-func.m4   \n",
            "  inflating: jq/find-func-no-libs.m4  \n",
            "  inflating: jq/find-func-no-libs2.m4  \n",
            "  inflating: jq/find-func.m4         \n",
            " extracting: jq/misc.m4              \n",
            "  inflating: jq/configure.ac         \n",
            "  inflating: jq/Pipfile.lock         \n",
            "  inflating: jq/README.md            \n",
            "  inflating: jq/build_manpage.py     \n",
            "  inflating: jq/build_mantests.py    \n",
            "  inflating: jq/build_website.py     \n",
            "  inflating: jq/default.yml          \n",
            "  inflating: jq/index.yml            \n",
            "  inflating: jq/manual.yml           \n",
            "  inflating: jq/manual.yml           \n",
            "  inflating: jq/manual.yml           \n",
            "  inflating: jq/manual.yml           \n",
            "  inflating: jq/manual.yml           \n",
            "  inflating: jq/manual.yml           \n",
            "  inflating: jq/default.yml          \n",
            "  inflating: jq/manual_schema.yml    \n",
            "  inflating: jq/.htaccess            \n",
            "  inflating: jq/style.css            \n",
            "  inflating: jq/icon.png             \n",
            "  inflating: jq/icon.svg             \n",
            "  inflating: jq/jq.svg               \n",
            "  inflating: jq/manual-search.js     \n",
            " extracting: jq/robots.txt           \n",
            "  inflating: jq/default.html.j2      \n",
            "  inflating: jq/index.html.j2        \n",
            "  inflating: jq/manual.html.j2       \n",
            "  inflating: jq/_footer.html.j2      \n",
            "  inflating: jq/_head.html.j2        \n",
            "  inflating: jq/_navbar.html.j2      \n",
            "  inflating: jq/validate_manual_schema.py  \n",
            "  inflating: jq/jq.1.prebuilt        \n",
            "  inflating: jq/jq.spec              \n",
            "  inflating: jq/libjq.pc.in          \n",
            "  inflating: jq/ax_compare_version.m4  \n",
            "  inflating: jq/ax_prog_bison_version.m4  \n",
            "  inflating: jq/ax_pthread.m4        \n",
            "  inflating: jq/gen_utf8_tables.py   \n",
            "  inflating: jq/jq-release-new.key   \n",
            "  inflating: jq/jq-release-old.key   \n",
            "  inflating: jq/jq-linux-x86.asc     \n",
            "  inflating: jq/jq-linux-x86_64.asc  \n",
            "  inflating: jq/jq-osx-x86.asc       \n",
            "  inflating: jq/jq-osx-x86_64.asc    \n",
            "  inflating: jq/jq-win32.exe.asc     \n",
            "  inflating: jq/jq-win64.exe.asc     \n",
            "  inflating: jq/sha256sum.txt        \n",
            "  inflating: jq/jq-linux-x86.asc     \n",
            "  inflating: jq/jq-linux-x86_64.asc  \n",
            "  inflating: jq/jq-osx-x86.asc       \n",
            "  inflating: jq/jq-osx-x86_64.asc    \n",
            "  inflating: jq/jq-solaris11-32.asc  \n",
            "  inflating: jq/jq-solaris11-64.asc  \n",
            "  inflating: jq/jq-win32.exe.asc     \n",
            "  inflating: jq/jq-win64.exe.asc     \n",
            "  inflating: jq/sha256sum.txt        \n",
            "  inflating: jq/jq-linux32-no-oniguruma.asc  \n",
            "  inflating: jq/jq-linux32.asc       \n",
            "  inflating: jq/jq-linux64.asc       \n",
            "  inflating: jq/jq-osx-amd64.asc     \n",
            "  inflating: jq/jq-win32.exe.asc     \n",
            "  inflating: jq/jq-win64.exe.asc     \n",
            "  inflating: jq/sha256sum.txt        \n",
            "  inflating: jq/jq-linux-x86_64-static.asc  \n",
            "  inflating: jq/jq-win32.exe.asc     \n",
            "  inflating: jq/jq-win64.exe.asc     \n",
            "  inflating: jq/sha256sum.txt        \n",
            "  inflating: jq/jq-linux-x86.asc     \n",
            "  inflating: jq/jq-linux-x86_64.asc  \n",
            "  inflating: jq/jq-osx-x86_64.asc    \n",
            "  inflating: jq/jq-win32.exe.asc     \n",
            "  inflating: jq/jq-win64.exe.asc     \n",
            "  inflating: jq/sha256sum.txt        \n",
            "  inflating: jq/jq-linux32.asc       \n",
            "  inflating: jq/jq-linux64.asc       \n",
            "  inflating: jq/jq-osx-amd64.asc     \n",
            "  inflating: jq/jq-win32.exe.asc     \n",
            "  inflating: jq/jq-win64.exe.asc     \n",
            "  inflating: jq/sha256sum.txt        \n",
            "  inflating: jq/jq-1.7.tar.gz.asc    \n",
            "  inflating: jq/jq-1.7.zip.asc       \n",
            "  inflating: jq/jq-linux-amd64.asc   \n",
            "  inflating: jq/jq-linux-arm64.asc   \n",
            "  inflating: jq/jq-linux-armel.asc   \n",
            "  inflating: jq/jq-linux-armhf.asc   \n",
            "  inflating: jq/jq-linux-i386.asc    \n",
            "  inflating: jq/jq-linux-mips.asc    \n",
            "  inflating: jq/jq-linux-mips64.asc  \n",
            "  inflating: jq/jq-linux-mips64el.asc  \n",
            "  inflating: jq/jq-linux-mips64r6.asc  \n",
            "  inflating: jq/jq-linux-mips64r6el.asc  \n",
            "  inflating: jq/jq-linux-mipsel.asc  \n",
            "  inflating: jq/jq-linux-mipsr6.asc  \n",
            "  inflating: jq/jq-linux-mipsr6el.asc  \n",
            "  inflating: jq/jq-linux-powerpc.asc  \n",
            "  inflating: jq/jq-linux-ppc64el.asc  \n",
            "  inflating: jq/jq-linux-riscv64.asc  \n",
            "  inflating: jq/jq-linux-s390x.asc   \n",
            "  inflating: jq/jq-macos-amd64.asc   \n",
            "  inflating: jq/jq-macos-arm64.asc   \n",
            "  inflating: jq/jq-windows-amd64.exe.asc  \n",
            "  inflating: jq/jq-windows-i386.exe.asc  \n",
            "  inflating: jq/sha256sum.txt        \n",
            "  inflating: jq/jq-1.7rc1.tar.gz.asc  \n",
            "  inflating: jq/jq-1.7rc1.zip.asc    \n",
            "  inflating: jq/jq-linux-amd64.asc   \n",
            "  inflating: jq/jq-linux-arm64.asc   \n",
            "  inflating: jq/jq-linux-armel.asc   \n",
            "  inflating: jq/jq-linux-armhf.asc   \n",
            "  inflating: jq/jq-linux-i386.asc    \n",
            "  inflating: jq/jq-linux-mips.asc    \n",
            "  inflating: jq/jq-linux-mips64.asc  \n",
            "  inflating: jq/jq-linux-mips64el.asc  \n",
            "  inflating: jq/jq-linux-mips64r6.asc  \n",
            "  inflating: jq/jq-linux-mips64r6el.asc  \n",
            "  inflating: jq/jq-linux-mipsel.asc  \n",
            "  inflating: jq/jq-linux-mipsr6.asc  \n",
            "  inflating: jq/jq-linux-mipsr6el.asc  \n",
            "  inflating: jq/jq-linux-powerpc.asc  \n",
            "  inflating: jq/jq-linux-ppc64el.asc  \n",
            "  inflating: jq/jq-linux-riscv64.asc  \n",
            "  inflating: jq/jq-linux-s390x.asc   \n",
            "  inflating: jq/jq-macos-amd64.asc   \n",
            "  inflating: jq/jq-macos-arm64.asc   \n",
            "  inflating: jq/jq-windows-amd64.exe.asc  \n",
            "  inflating: jq/jq-windows-i386.exe.asc  \n",
            "  inflating: jq/sha256sum.txt        \n",
            "  inflating: jq/jq-1.7rc2.tar.gz.asc  \n",
            "  inflating: jq/jq-1.7rc2.zip.asc    \n",
            "  inflating: jq/jq-linux-amd64.asc   \n",
            "  inflating: jq/jq-linux-arm64.asc   \n",
            "  inflating: jq/jq-linux-armel.asc   \n",
            "  inflating: jq/jq-linux-armhf.asc   \n",
            "  inflating: jq/jq-linux-i386.asc    \n",
            "  inflating: jq/jq-linux-mips.asc    \n",
            "  inflating: jq/jq-linux-mips64.asc  \n",
            "  inflating: jq/jq-linux-mips64el.asc  \n",
            "  inflating: jq/jq-linux-mips64r6.asc  \n",
            "  inflating: jq/jq-linux-mips64r6el.asc  \n",
            "  inflating: jq/jq-linux-mipsel.asc  \n",
            "  inflating: jq/jq-linux-mipsr6.asc  \n",
            "  inflating: jq/jq-linux-mipsr6el.asc  \n",
            "  inflating: jq/jq-linux-powerpc.asc  \n",
            "  inflating: jq/jq-linux-ppc64el.asc  \n",
            "  inflating: jq/jq-linux-riscv64.asc  \n",
            "  inflating: jq/jq-linux-s390x.asc   \n",
            "  inflating: jq/jq-macos-amd64.asc   \n",
            "  inflating: jq/jq-macos-arm64.asc   \n",
            "  inflating: jq/jq-windows-amd64.exe.asc  \n",
            "  inflating: jq/jq-windows-i386.exe.asc  \n",
            "  inflating: jq/sha256sum.txt        \n",
            "  inflating: jq/builtin.c            \n",
            "  inflating: jq/builtin.h            \n",
            "  inflating: jq/builtin.jq           \n",
            "  inflating: jq/bytecode.c           \n",
            "  inflating: jq/bytecode.h           \n",
            "  inflating: jq/compile.c            \n",
            "  inflating: jq/compile.h            \n",
            "  inflating: jq/ICU-license.html     \n",
            "  inflating: jq/decBasic.c           \n",
            "  inflating: jq/decCommon.c          \n",
            "  inflating: jq/decContext.c         \n",
            "  inflating: jq/decContext.h         \n",
            "  inflating: jq/decDPD.h             \n",
            "  inflating: jq/decDouble.c          \n",
            "  inflating: jq/decDouble.h          \n",
            "  inflating: jq/decNumber.c          \n",
            "  inflating: jq/decNumber.h          \n",
            "  inflating: jq/decNumberLocal.h     \n",
            "  inflating: jq/decPacked.c          \n",
            "  inflating: jq/decPacked.h          \n",
            "  inflating: jq/decQuad.c            \n",
            "  inflating: jq/decQuad.h            \n",
            "  inflating: jq/decSingle.c          \n",
            "  inflating: jq/decSingle.h          \n",
            "  inflating: jq/decimal128.c         \n",
            "  inflating: jq/decimal128.h         \n",
            "  inflating: jq/decimal32.c          \n",
            "  inflating: jq/decimal32.h          \n",
            "  inflating: jq/decimal64.c          \n",
            "  inflating: jq/decimal64.h          \n",
            "  inflating: jq/decnumber.pdf        \n",
            "  inflating: jq/example1.c           \n",
            "  inflating: jq/example2.c           \n",
            "  inflating: jq/example3.c           \n",
            "  inflating: jq/example4.c           \n",
            "  inflating: jq/example5.c           \n",
            "  inflating: jq/example6.c           \n",
            "  inflating: jq/example7.c           \n",
            "  inflating: jq/example8.c           \n",
            "  inflating: jq/readme.txt           \n",
            "  inflating: jq/exec_stack.h         \n",
            "  inflating: jq/execute.c            \n",
            "  inflating: jq/inject_errors.c      \n",
            "  inflating: jq/jq.h                 \n",
            "  inflating: jq/jq_parser.h          \n",
            "  inflating: jq/jq_test.c            \n",
            "  inflating: jq/jv.c                 \n",
            "  inflating: jq/jv.h                 \n",
            "  inflating: jq/jv_alloc.c           \n",
            "  inflating: jq/jv_alloc.h           \n",
            "  inflating: jq/jv_aux.c             \n",
            "  inflating: jq/jv_dtoa.c            \n",
            "  inflating: jq/jv_dtoa.h            \n",
            "  inflating: jq/jv_dtoa_tsd.c        \n",
            "  inflating: jq/jv_dtoa_tsd.h        \n",
            "  inflating: jq/jv_file.c            \n",
            "  inflating: jq/jv_parse.c           \n",
            "  inflating: jq/jv_print.c           \n",
            "  inflating: jq/jv_private.h         \n",
            "  inflating: jq/jv_thread.h          \n",
            "  inflating: jq/jv_unicode.c         \n",
            "  inflating: jq/jv_unicode.h         \n",
            "  inflating: jq/jv_utf8_tables.h     \n",
            "  inflating: jq/lexer.c              \n",
            "  inflating: jq/lexer.h              \n",
            "  inflating: jq/lexer.l              \n",
            "  inflating: jq/libm.h               \n",
            "  inflating: jq/linker.c             \n",
            "  inflating: jq/linker.h             \n",
            "  inflating: jq/locfile.c            \n",
            "  inflating: jq/locfile.h            \n",
            "  inflating: jq/main.c               \n",
            "  inflating: jq/opcode_list.h        \n",
            "  inflating: jq/parser.c             \n",
            "  inflating: jq/parser.h             \n",
            "  inflating: jq/parser.y             \n",
            "  inflating: jq/util.c               \n",
            "  inflating: jq/util.h               \n",
            "  inflating: jq/base64.test          \n",
            "  inflating: jq/jq-f-test.sh         \n",
            "  inflating: jq/jq.test              \n",
            "  inflating: jq/jq_fuzz_compile.c    \n",
            "  inflating: jq/jq_fuzz_execute.cpp  \n",
            "  inflating: jq/jq_fuzz_fixed.cpp    \n",
            "  inflating: jq/jq_fuzz_load_file.c  \n",
            "  inflating: jq/jq_fuzz_parse.c      \n",
            "  inflating: jq/jq_fuzz_parse_extended.c  \n",
            "  inflating: jq/jq_fuzz_parse_stream.c  \n",
            "  inflating: jq/local.supp           \n",
            "  inflating: jq/man.test             \n",
            "  inflating: jq/manonig.test         \n",
            " extracting: jq/a.jq                 \n",
            "  inflating: jq/b.jq                 \n",
            "  inflating: jq/c.jq                 \n",
            " extracting: jq/d.jq                 \n",
            "  inflating: jq/data.json            \n",
            "  inflating: jq/.jq                  \n",
            " extracting: jq/g.jq                 \n",
            " extracting: jq/e.jq                 \n",
            " extracting: jq/f.jq                 \n",
            "  inflating: jq/shadow1.jq           \n",
            " extracting: jq/shadow2.jq           \n",
            " extracting: jq/syntaxerror.jq       \n",
            "  inflating: jq/test_bind_order.jq   \n",
            "  inflating: jq/test_bind_order0.jq  \n",
            "  inflating: jq/test_bind_order1.jq  \n",
            " extracting: jq/test_bind_order2.jq  \n",
            " extracting: jq/no-main-program.jq   \n",
            "  inflating: jq/onig.supp            \n",
            "  inflating: jq/onig.test            \n",
            "  inflating: jq/optional.test        \n",
            "  inflating: jq/input0.json          \n",
            "  inflating: jq/utf8-truncate.jq     \n",
            " extracting: jq/yes-main-program.jq  \n"
          ]
        }
      ]
    },
    {
      "cell_type": "markdown",
      "source": [
        "## Download from Google Drive\n"
      ],
      "metadata": {
        "id": "sN8QFFLT03tp"
      }
    },
    {
      "cell_type": "markdown",
      "source": [
        "### Mounting"
      ],
      "metadata": {
        "id": "zZLr75LsHWu-"
      }
    },
    {
      "cell_type": "code",
      "source": [
        "# Connect to Google Drive by mounting it\n",
        "from google.colab import drive\n",
        "drive.mount('mount')"
      ],
      "metadata": {
        "colab": {
          "base_uri": "https://localhost:8080/"
        },
        "id": "bo0oz3wn28WF",
        "outputId": "a8b7eb3e-7c4b-40af-ee80-cdbccb5c46bd"
      },
      "execution_count": null,
      "outputs": [
        {
          "output_type": "stream",
          "name": "stdout",
          "text": [
            "Drive already mounted at mount; to attempt to forcibly remount, call drive.mount(\"mount\", force_remount=True).\n"
          ]
        }
      ]
    },
    {
      "cell_type": "markdown",
      "source": [
        "###1. Download file from mounted drive\n"
      ],
      "metadata": {
        "id": "MSjjLhSRHdpX"
      }
    },
    {
      "cell_type": "code",
      "source": [
        "# Remove existing file\n",
        "!rm -rf local.txt\n",
        "\n",
        "# Copy file from drive to local\n",
        "!cp mount/MyDrive/assgn1colab/local.txt ."
      ],
      "metadata": {
        "id": "qBkw2gNkEWvC"
      },
      "execution_count": null,
      "outputs": []
    },
    {
      "cell_type": "markdown",
      "source": [
        "###2. Download publically shared drive file"
      ],
      "metadata": {
        "id": "RqPIGBhWHocb"
      }
    },
    {
      "cell_type": "code",
      "source": [
        "# Remove existing zip\n",
        "!rm -rf public.zip\n",
        "\n",
        "# Downloading publicly shared drive files\n",
        "!gdown --id 11QNB0T2HZDEmJwTK9xTTC6AUybcGYzxH\n",
        "\n",
        "!ls -al *.zip"
      ],
      "metadata": {
        "id": "krbDrBLn3x2F",
        "colab": {
          "base_uri": "https://localhost:8080/"
        },
        "outputId": "27a7a6ff-3ea0-47f8-d88d-ddd0a28be6bb"
      },
      "execution_count": null,
      "outputs": [
        {
          "output_type": "stream",
          "name": "stdout",
          "text": [
            "/usr/local/lib/python3.10/dist-packages/gdown/__main__.py:132: FutureWarning: Option `--id` was deprecated in version 4.3.1 and will be removed in 5.0. You don't need to pass it anymore to use a file ID.\n",
            "  warnings.warn(\n",
            "Downloading...\n",
            "From: https://drive.google.com/uc?id=11QNB0T2HZDEmJwTK9xTTC6AUybcGYzxH\n",
            "To: /content/public.zip\n",
            "100% 533/533 [00:00<00:00, 2.18MB/s]\n",
            "-rw-r--r-- 1 root root 1422882 Sep  7 20:02 jq-1.7.1.zip\n",
            "-rw-r--r-- 1 root root     533 Sep  7 20:10 public.zip\n"
          ]
        }
      ]
    },
    {
      "cell_type": "markdown",
      "source": [
        "###3. Alternate way to authenticate and download files from folder"
      ],
      "metadata": {
        "id": "i2JefZsRIeNg"
      }
    },
    {
      "cell_type": "code",
      "source": [
        "from google.colab import auth\n",
        "auth.authenticate_user()"
      ],
      "metadata": {
        "id": "Oj89fB7Z4nyo"
      },
      "execution_count": null,
      "outputs": []
    },
    {
      "cell_type": "code",
      "source": [
        "folder_id=\"1x5X_OXHDJueETojtirMFn3oCFUDrg9Iq\""
      ],
      "metadata": {
        "id": "8aBlEyPZIqRG"
      },
      "execution_count": null,
      "outputs": []
    },
    {
      "cell_type": "code",
      "source": [
        "# List files under folder_id\n",
        "def folder_list(folder_id):\n",
        "  from googleapiclient.discovery import build\n",
        "  gdrive = build('drive', 'v3').files()\n",
        "  res = gdrive.list(q=\"'%s' in parents\" % folder_id).execute()\n",
        "  return [f['id'] for f in res['files']]\n",
        "\n",
        "folder_list(folder_id)"
      ],
      "metadata": {
        "colab": {
          "base_uri": "https://localhost:8080/"
        },
        "id": "yvknTGrQIuPu",
        "outputId": "5d6cc2c7-1b36-4c0b-b517-ecb6353bd046"
      },
      "execution_count": null,
      "outputs": [
        {
          "output_type": "execute_result",
          "data": {
            "text/plain": [
              "['11QNB0T2HZDEmJwTK9xTTC6AUybcGYzxH',\n",
              " '1GLva1mJcEscdqw6KsIfWIe_6QdQllJKf',\n",
              " '16Xb5aNfeMjto8kYh0Q-imfuR_-QPFWEU',\n",
              " '1CA6pPFJDzBRjmFFBvVwpmFt0zwHHzF0-']"
            ]
          },
          "metadata": {},
          "execution_count": 37
        }
      ]
    },
    {
      "cell_type": "code",
      "source": [
        "# Download files under folder_id\n",
        "def folder_download(folder_id):\n",
        "  for fid in folder_list(folder_id):\n",
        "    !gdown -q --id $fid\n",
        "\n",
        "folder_download(folder_id)"
      ],
      "metadata": {
        "colab": {
          "base_uri": "https://localhost:8080/"
        },
        "id": "cWmnpOaxKB7N",
        "outputId": "caedb0fa-13a5-4898-f4cf-c22975220813"
      },
      "execution_count": null,
      "outputs": [
        {
          "output_type": "stream",
          "name": "stdout",
          "text": [
            "/usr/local/lib/python3.10/dist-packages/gdown/__main__.py:132: FutureWarning: Option `--id` was deprecated in version 4.3.1 and will be removed in 5.0. You don't need to pass it anymore to use a file ID.\n",
            "  warnings.warn(\n",
            "/usr/local/lib/python3.10/dist-packages/gdown/__main__.py:132: FutureWarning: Option `--id` was deprecated in version 4.3.1 and will be removed in 5.0. You don't need to pass it anymore to use a file ID.\n",
            "  warnings.warn(\n",
            "/usr/local/lib/python3.10/dist-packages/gdown/__main__.py:132: FutureWarning: Option `--id` was deprecated in version 4.3.1 and will be removed in 5.0. You don't need to pass it anymore to use a file ID.\n",
            "  warnings.warn(\n",
            "/usr/local/lib/python3.10/dist-packages/gdown/__main__.py:132: FutureWarning: Option `--id` was deprecated in version 4.3.1 and will be removed in 5.0. You don't need to pass it anymore to use a file ID.\n",
            "  warnings.warn(\n"
          ]
        }
      ]
    },
    {
      "cell_type": "markdown",
      "source": [
        "## Forms"
      ],
      "metadata": {
        "id": "-_t87EqXKU4y"
      }
    },
    {
      "cell_type": "code",
      "source": [
        "text = 'value' #@param\n",
        "date_input = '2018-03-22' #@param {type:\"date\"}\n",
        "number_slider = -0.3 #@param {type:\"slider\", min:-1, max:1, step:0.1}\n",
        "dropdown = '1st option' #@param [\"1st option\", \"2nd option\", \"3rd option\"]"
      ],
      "metadata": {
        "id": "RE7gyGr26XIL"
      },
      "execution_count": null,
      "outputs": []
    },
    {
      "cell_type": "markdown",
      "source": [
        "## Download and Install libraries"
      ],
      "metadata": {
        "id": "Gt9xhfMO7Fi7"
      }
    },
    {
      "cell_type": "code",
      "source": [
        "# Download Conda and install\n",
        "!wget -c https://repo.anaconda.com/archive/Anaconda3-2020.07-Linux-x86_64.sh\n",
        "!chmod +x Anaconda3-2020.07-Linux-x86_64.sh\n",
        "!bash ./Anaconda3-2020.07-Linux-x86_64.sh -b -f -p /usr/local\n",
        "\n",
        "# Installs the pytorch and faiss-cpu library from conda\n",
        "!conda install -q -y --prefix /usr/local -c pytorch faiss-cpu\n",
        "import sys\n",
        "sys.path.append('/usr/local/lib/python3.8/site-packages/')\n",
        "import faiss"
      ],
      "metadata": {
        "id": "-3qACSJi7EVt",
        "colab": {
          "base_uri": "https://localhost:8080/"
        },
        "outputId": "3c11019e-3dfb-4c49-968a-aabb28e69f60"
      },
      "execution_count": null,
      "outputs": [
        {
          "output_type": "stream",
          "name": "stdout",
          "text": [
            "--2024-09-08 23:26:11--  https://repo.anaconda.com/archive/Anaconda3-2020.07-Linux-x86_64.sh\n",
            "Resolving repo.anaconda.com (repo.anaconda.com)... 104.16.191.158, 104.16.32.241, 2606:4700::6810:bf9e, ...\n",
            "Connecting to repo.anaconda.com (repo.anaconda.com)|104.16.191.158|:443... connected.\n",
            "HTTP request sent, awaiting response... 200 OK\n",
            "Length: 576830621 (550M) [application/x-sh]\n",
            "Saving to: ‘Anaconda3-2020.07-Linux-x86_64.sh’\n",
            "\n",
            "Anaconda3-2020.07-L 100%[===================>] 550.11M  78.0MB/s    in 5.6s    \n",
            "\n",
            "2024-09-08 23:26:17 (98.2 MB/s) - ‘Anaconda3-2020.07-Linux-x86_64.sh’ saved [576830621/576830621]\n",
            "\n",
            "PREFIX=/usr/local\n",
            "Unpacking payload ...\n",
            "Collecting package metadata (current_repodata.json): - \b\b\\ \b\b| \b\b/ \b\b- \b\bdone\n",
            "Solving environment: | \b\b/ \b\b- \b\b\\ \b\b| \b\b/ \b\b- \b\b\\ \b\b| \b\b/ \b\b- \b\b\\ \b\b| \b\b/ \b\b- \b\b\\ \b\b| \b\b/ \b\b- \b\b\\ \b\b| \b\b/ \b\b- \b\b\\ \b\b| \b\bdone\n",
            "\n",
            "## Package Plan ##\n",
            "\n",
            "  environment location: /usr/local\n",
            "\n",
            "  added / updated specs:\n",
            "    - _ipyw_jlab_nb_ext_conf==0.1.0=py38_0\n",
            "    - _libgcc_mutex==0.1=main\n",
            "    - alabaster==0.7.12=py_0\n",
            "    - anaconda-client==1.7.2=py38_0\n",
            "    - anaconda-navigator==1.9.12=py38_0\n",
            "    - anaconda-project==0.8.4=py_0\n",
            "    - anaconda==2020.07=py38_0\n",
            "    - argh==0.26.2=py38_0\n",
            "    - asn1crypto==1.3.0=py38_0\n",
            "    - astroid==2.4.2=py38_0\n",
            "    - astropy==4.0.1.post1=py38h7b6447c_1\n",
            "    - atomicwrites==1.4.0=py_0\n",
            "    - attrs==19.3.0=py_0\n",
            "    - autopep8==1.5.3=py_0\n",
            "    - babel==2.8.0=py_0\n",
            "    - backcall==0.2.0=py_0\n",
            "    - backports.functools_lru_cache==1.6.1=py_0\n",
            "    - backports.shutil_get_terminal_size==1.0.0=py38_2\n",
            "    - backports.tempfile==1.0=py_1\n",
            "    - backports.weakref==1.0.post1=py_1\n",
            "    - backports==1.0=py_2\n",
            "    - beautifulsoup4==4.9.1=py38_0\n",
            "    - bitarray==1.4.0=py38h7b6447c_0\n",
            "    - bkcharts==0.2=py38_0\n",
            "    - blas==1.0=mkl\n",
            "    - bleach==3.1.5=py_0\n",
            "    - blosc==1.19.0=hd408876_0\n",
            "    - bokeh==2.1.1=py38_0\n",
            "    - boto==2.49.0=py38_0\n",
            "    - bottleneck==1.3.2=py38heb32a55_1\n",
            "    - brotlipy==0.7.0=py38h7b6447c_1000\n",
            "    - bzip2==1.0.8=h7b6447c_0\n",
            "    - ca-certificates==2020.6.24=0\n",
            "    - cairo==1.14.12=h8948797_3\n",
            "    - certifi==2020.6.20=py38_0\n",
            "    - cffi==1.14.0=py38he30daa8_1\n",
            "    - chardet==3.0.4=py38_1003\n",
            "    - click==7.1.2=py_0\n",
            "    - cloudpickle==1.5.0=py_0\n",
            "    - clyent==1.2.2=py38_1\n",
            "    - colorama==0.4.3=py_0\n",
            "    - conda-build==3.18.11=py38_0\n",
            "    - conda-env==2.6.0=1\n",
            "    - conda-package-handling==1.6.1=py38h7b6447c_0\n",
            "    - conda-verify==3.4.2=py_1\n",
            "    - conda==4.8.3=py38_0\n",
            "    - contextlib2==0.6.0.post1=py_0\n",
            "    - cryptography==2.9.2=py38h1ba5d50_0\n",
            "    - curl==7.71.1=hbc83047_1\n",
            "    - cycler==0.10.0=py38_0\n",
            "    - cython==0.29.21=py38he6710b0_0\n",
            "    - cytoolz==0.10.1=py38h7b6447c_0\n",
            "    - dask-core==2.20.0=py_0\n",
            "    - dask==2.20.0=py_0\n",
            "    - dbus==1.13.16=hb2f20db_0\n",
            "    - decorator==4.4.2=py_0\n",
            "    - defusedxml==0.6.0=py_0\n",
            "    - diff-match-patch==20200713=py_0\n",
            "    - distributed==2.20.0=py38_0\n",
            "    - docutils==0.16=py38_1\n",
            "    - entrypoints==0.3=py38_0\n",
            "    - et_xmlfile==1.0.1=py_1001\n",
            "    - expat==2.2.9=he6710b0_2\n",
            "    - fastcache==1.1.0=py38h7b6447c_0\n",
            "    - filelock==3.0.12=py_0\n",
            "    - flake8==3.8.3=py_0\n",
            "    - flask==1.1.2=py_0\n",
            "    - fontconfig==2.13.0=h9420a91_0\n",
            "    - freetype==2.10.2=h5ab3b9f_0\n",
            "    - fribidi==1.0.9=h7b6447c_0\n",
            "    - fsspec==0.7.4=py_0\n",
            "    - future==0.18.2=py38_1\n",
            "    - get_terminal_size==1.0.0=haa9412d_0\n",
            "    - gevent==20.6.2=py38h7b6447c_0\n",
            "    - glib==2.65.0=h3eb4bd4_0\n",
            "    - glob2==0.7=py_0\n",
            "    - gmp==6.1.2=h6c8ec71_1\n",
            "    - gmpy2==2.0.8=py38hd5f6e3b_3\n",
            "    - graphite2==1.3.14=h23475e2_0\n",
            "    - greenlet==0.4.16=py38h7b6447c_0\n",
            "    - gst-plugins-base==1.14.0=hbbd80ab_1\n",
            "    - gstreamer==1.14.0=hb31296c_0\n",
            "    - h5py==2.10.0=py38h7918eee_0\n",
            "    - harfbuzz==2.4.0=hca77d97_1\n",
            "    - hdf5==1.10.4=hb1b8bf9_0\n",
            "    - heapdict==1.0.1=py_0\n",
            "    - html5lib==1.1=py_0\n",
            "    - icu==58.2=he6710b0_3\n",
            "    - idna==2.10=py_0\n",
            "    - imageio==2.9.0=py_0\n",
            "    - imagesize==1.2.0=py_0\n",
            "    - importlib-metadata==1.7.0=py38_0\n",
            "    - importlib_metadata==1.7.0=0\n",
            "    - intel-openmp==2020.1=217\n",
            "    - intervaltree==3.0.2=py_1\n",
            "    - ipykernel==5.3.2=py38h5ca1d4c_0\n",
            "    - ipython==7.16.1=py38h5ca1d4c_0\n",
            "    - ipython_genutils==0.2.0=py38_0\n",
            "    - ipywidgets==7.5.1=py_0\n",
            "    - isort==4.3.21=py38_0\n",
            "    - itsdangerous==1.1.0=py_0\n",
            "    - jbig==2.1=hdba287a_0\n",
            "    - jdcal==1.4.1=py_0\n",
            "    - jedi==0.17.1=py38_0\n",
            "    - jeepney==0.4.3=py_0\n",
            "    - jinja2==2.11.2=py_0\n",
            "    - joblib==0.16.0=py_0\n",
            "    - jpeg==9b=h024ee3a_2\n",
            "    - json5==0.9.5=py_0\n",
            "    - jsonschema==3.2.0=py38_0\n",
            "    - jupyter==1.0.0=py38_7\n",
            "    - jupyter_client==6.1.6=py_0\n",
            "    - jupyter_console==6.1.0=py_0\n",
            "    - jupyter_core==4.6.3=py38_0\n",
            "    - jupyterlab==2.1.5=py_0\n",
            "    - jupyterlab_server==1.2.0=py_0\n",
            "    - keyring==21.2.1=py38_0\n",
            "    - kiwisolver==1.2.0=py38hfd86e86_0\n",
            "    - krb5==1.18.2=h173b8e3_0\n",
            "    - lazy-object-proxy==1.4.3=py38h7b6447c_0\n",
            "    - lcms2==2.11=h396b838_0\n",
            "    - ld_impl_linux-64==2.33.1=h53a641e_7\n",
            "    - libarchive==3.4.2=h62408e4_0\n",
            "    - libcurl==7.71.1=h20c2e04_1\n",
            "    - libedit==3.1.20191231=h14c3975_1\n",
            "    - libffi==3.3=he6710b0_2\n",
            "    - libgcc-ng==9.1.0=hdf63c60_0\n",
            "    - libgfortran-ng==7.3.0=hdf63c60_0\n",
            "    - liblief==0.10.1=he6710b0_0\n",
            "    - libllvm9==9.0.1=h4a3c616_1\n",
            "    - libpng==1.6.37=hbc83047_0\n",
            "    - libsodium==1.0.18=h7b6447c_0\n",
            "    - libspatialindex==1.9.3=he6710b0_0\n",
            "    - libssh2==1.9.0=h1ba5d50_1\n",
            "    - libstdcxx-ng==9.1.0=hdf63c60_0\n",
            "    - libtiff==4.1.0=h2733197_1\n",
            "    - libtool==2.4.6=h7b6447c_5\n",
            "    - libuuid==1.0.3=h1bed415_2\n",
            "    - libxcb==1.14=h7b6447c_0\n",
            "    - libxml2==2.9.10=he19cac6_1\n",
            "    - libxslt==1.1.34=hc22bd24_0\n",
            "    - llvmlite==0.33.0=py38hc6ec683_1\n",
            "    - locket==0.2.0=py38_1\n",
            "    - lxml==4.5.2=py38hefd8a0e_0\n",
            "    - lz4-c==1.9.2=he6710b0_0\n",
            "    - lzo==2.10=h7b6447c_2\n",
            "    - markupsafe==1.1.1=py38h7b6447c_0\n",
            "    - matplotlib-base==3.2.2=py38hef1b27d_0\n",
            "    - matplotlib==3.2.2=0\n",
            "    - mccabe==0.6.1=py38_1\n",
            "    - mistune==0.8.4=py38h7b6447c_1000\n",
            "    - mkl-service==2.3.0=py38he904b0f_0\n",
            "    - mkl==2020.1=217\n",
            "    - mkl_fft==1.1.0=py38h23d657b_0\n",
            "    - mkl_random==1.1.1=py38h0573a6f_0\n",
            "    - mock==4.0.2=py_0\n",
            "    - more-itertools==8.4.0=py_0\n",
            "    - mpc==1.1.0=h10f8cd9_1\n",
            "    - mpfr==4.0.2=hb69a4c5_1\n",
            "    - mpmath==1.1.0=py38_0\n",
            "    - msgpack-python==1.0.0=py38hfd86e86_1\n",
            "    - multipledispatch==0.6.0=py38_0\n",
            "    - navigator-updater==0.2.1=py38_0\n",
            "    - nbconvert==5.6.1=py38_0\n",
            "    - nbformat==5.0.7=py_0\n",
            "    - ncurses==6.2=he6710b0_1\n",
            "    - networkx==2.4=py_1\n",
            "    - nltk==3.5=py_0\n",
            "    - nose==1.3.7=py38_2\n",
            "    - notebook==6.0.3=py38_0\n",
            "    - numba==0.50.1=py38h0573a6f_1\n",
            "    - numexpr==2.7.1=py38h423224d_0\n",
            "    - numpy-base==1.18.5=py38hde5b4d6_0\n",
            "    - numpy==1.18.5=py38ha1c710e_0\n",
            "    - numpydoc==1.1.0=py_0\n",
            "    - olefile==0.46=py_0\n",
            "    - openpyxl==3.0.4=py_0\n",
            "    - openssl==1.1.1g=h7b6447c_0\n",
            "    - packaging==20.4=py_0\n",
            "    - pandas==1.0.5=py38h0573a6f_0\n",
            "    - pandoc==2.10=0\n",
            "    - pandocfilters==1.4.2=py38_1\n",
            "    - pango==1.45.3=hd140c19_0\n",
            "    - parso==0.7.0=py_0\n",
            "    - partd==1.1.0=py_0\n",
            "    - patchelf==0.11=he6710b0_0\n",
            "    - path.py==12.4.0=0\n",
            "    - path==13.1.0=py38_0\n",
            "    - pathlib2==2.3.5=py38_0\n",
            "    - pathtools==0.1.2=py_1\n",
            "    - patsy==0.5.1=py38_0\n",
            "    - pcre==8.44=he6710b0_0\n",
            "    - pep8==1.7.1=py38_0\n",
            "    - pexpect==4.8.0=py38_0\n",
            "    - pickleshare==0.7.5=py38_1000\n",
            "    - pillow==7.2.0=py38hb39fc2d_0\n",
            "    - pip==20.1.1=py38_1\n",
            "    - pixman==0.40.0=h7b6447c_0\n",
            "    - pkginfo==1.5.0.1=py38_0\n",
            "    - pluggy==0.13.1=py38_0\n",
            "    - ply==3.11=py38_0\n",
            "    - prometheus_client==0.8.0=py_0\n",
            "    - prompt-toolkit==3.0.5=py_0\n",
            "    - prompt_toolkit==3.0.5=0\n",
            "    - psutil==5.7.0=py38h7b6447c_0\n",
            "    - ptyprocess==0.6.0=py38_0\n",
            "    - py-lief==0.10.1=py38h403a769_0\n",
            "    - py==1.9.0=py_0\n",
            "    - pycodestyle==2.6.0=py_0\n",
            "    - pycosat==0.6.3=py38h7b6447c_1\n",
            "    - pycparser==2.20=py_2\n",
            "    - pycurl==7.43.0.5=py38h1ba5d50_0\n",
            "    - pydocstyle==5.0.2=py_0\n",
            "    - pyflakes==2.2.0=py_0\n",
            "    - pygments==2.6.1=py_0\n",
            "    - pylint==2.5.3=py38_0\n",
            "    - pyodbc==4.0.30=py38he6710b0_0\n",
            "    - pyopenssl==19.1.0=py_1\n",
            "    - pyparsing==2.4.7=py_0\n",
            "    - pyqt==5.9.2=py38h05f1152_4\n",
            "    - pyrsistent==0.16.0=py38h7b6447c_0\n",
            "    - pysocks==1.7.1=py38_0\n",
            "    - pytables==3.6.1=py38h9fd0a39_0\n",
            "    - pytest==5.4.3=py38_0\n",
            "    - python-dateutil==2.8.1=py_0\n",
            "    - python-jsonrpc-server==0.3.4=py_1\n",
            "    - python-language-server==0.34.1=py38_0\n",
            "    - python-libarchive-c==2.9=py_0\n",
            "    - python==3.8.3=hcff3b4d_2\n",
            "    - pytz==2020.1=py_0\n",
            "    - pywavelets==1.1.1=py38h7b6447c_0\n",
            "    - pyxdg==0.26=py_0\n",
            "    - pyyaml==5.3.1=py38h7b6447c_1\n",
            "    - pyzmq==19.0.1=py38he6710b0_1\n",
            "    - qdarkstyle==2.8.1=py_0\n",
            "    - qt==5.9.7=h5867ecd_1\n",
            "    - qtawesome==0.7.2=py_0\n",
            "    - qtconsole==4.7.5=py_0\n",
            "    - qtpy==1.9.0=py_0\n",
            "    - readline==8.0=h7b6447c_0\n",
            "    - regex==2020.6.8=py38h7b6447c_0\n",
            "    - requests==2.24.0=py_0\n",
            "    - ripgrep==11.0.2=he32d670_0\n",
            "    - rope==0.17.0=py_0\n",
            "    - rtree==0.9.4=py38_1\n",
            "    - ruamel_yaml==0.15.87=py38h7b6447c_1\n",
            "    - scikit-image==0.16.2=py38h0573a6f_0\n",
            "    - scikit-learn==0.23.1=py38h423224d_0\n",
            "    - scipy==1.5.0=py38h0b6359f_0\n",
            "    - seaborn==0.10.1=py_0\n",
            "    - secretstorage==3.1.2=py38_0\n",
            "    - send2trash==1.5.0=py38_0\n",
            "    - setuptools==49.2.0=py38_0\n",
            "    - simplegeneric==0.8.1=py38_2\n",
            "    - singledispatch==3.4.0.3=py38_0\n",
            "    - sip==4.19.13=py38he6710b0_0\n",
            "    - six==1.15.0=py_0\n",
            "    - snappy==1.1.8=he6710b0_0\n",
            "    - snowballstemmer==2.0.0=py_0\n",
            "    - sortedcollections==1.2.1=py_0\n",
            "    - sortedcontainers==2.2.2=py_0\n",
            "    - soupsieve==2.0.1=py_0\n",
            "    - sphinx==3.1.2=py_0\n",
            "    - sphinxcontrib-applehelp==1.0.2=py_0\n",
            "    - sphinxcontrib-devhelp==1.0.2=py_0\n",
            "    - sphinxcontrib-htmlhelp==1.0.3=py_0\n",
            "    - sphinxcontrib-jsmath==1.0.1=py_0\n",
            "    - sphinxcontrib-qthelp==1.0.3=py_0\n",
            "    - sphinxcontrib-serializinghtml==1.1.4=py_0\n",
            "    - sphinxcontrib-websupport==1.2.3=py_0\n",
            "    - sphinxcontrib==1.0=py38_1\n",
            "    - spyder-kernels==1.9.2=py38_0\n",
            "    - spyder==4.1.4=py38_0\n",
            "    - sqlalchemy==1.3.18=py38h7b6447c_0\n",
            "    - sqlite==3.32.3=h62c20be_0\n",
            "    - statsmodels==0.11.1=py38h7b6447c_0\n",
            "    - sympy==1.6.1=py38_0\n",
            "    - tbb==2020.0=hfd86e86_0\n",
            "    - tblib==1.6.0=py_0\n",
            "    - terminado==0.8.3=py38_0\n",
            "    - testpath==0.4.4=py_0\n",
            "    - threadpoolctl==2.1.0=pyh5ca1d4c_0\n",
            "    - tk==8.6.10=hbc83047_0\n",
            "    - toml==0.10.1=py_0\n",
            "    - toolz==0.10.0=py_0\n",
            "    - tornado==6.0.4=py38h7b6447c_1\n",
            "    - tqdm==4.47.0=py_0\n",
            "    - traitlets==4.3.3=py38_0\n",
            "    - typing_extensions==3.7.4.2=py_0\n",
            "    - ujson==1.35=py38h7b6447c_0\n",
            "    - unicodecsv==0.14.1=py38_0\n",
            "    - unixodbc==2.3.7=h14c3975_0\n",
            "    - urllib3==1.25.9=py_0\n",
            "    - watchdog==0.10.3=py38_0\n",
            "    - wcwidth==0.2.5=py_0\n",
            "    - webencodings==0.5.1=py38_1\n",
            "    - werkzeug==1.0.1=py_0\n",
            "    - wheel==0.34.2=py38_0\n",
            "    - widgetsnbextension==3.5.1=py38_0\n",
            "    - wrapt==1.11.2=py38h7b6447c_0\n",
            "    - wurlitzer==2.0.1=py38_0\n",
            "    - xlrd==1.2.0=py_0\n",
            "    - xlsxwriter==1.2.9=py_0\n",
            "    - xlwt==1.3.0=py38_0\n",
            "    - xmltodict==0.12.0=py_0\n",
            "    - xz==5.2.5=h7b6447c_0\n",
            "    - yaml==0.2.5=h7b6447c_0\n",
            "    - yapf==0.30.0=py_0\n",
            "    - zeromq==4.3.2=he6710b0_2\n",
            "    - zict==2.0.0=py_0\n",
            "    - zipp==3.1.0=py_0\n",
            "    - zlib==1.2.11=h7b6447c_3\n",
            "    - zope.event==4.4=py38_0\n",
            "    - zope.interface==4.7.1=py38h7b6447c_0\n",
            "    - zope==1.0=py38_1\n",
            "    - zstd==1.4.5=h0b5b093_0\n",
            "\n",
            "\n",
            "The following NEW packages will be INSTALLED:\n",
            "\n",
            "  _ipyw_jlab_nb_ext~ pkgs/main/linux-64::_ipyw_jlab_nb_ext_conf-0.1.0-py38_0\n",
            "  _libgcc_mutex      pkgs/main/linux-64::_libgcc_mutex-0.1-main\n",
            "  alabaster          pkgs/main/noarch::alabaster-0.7.12-py_0\n",
            "  anaconda           pkgs/main/linux-64::anaconda-2020.07-py38_0\n",
            "  anaconda-client    pkgs/main/linux-64::anaconda-client-1.7.2-py38_0\n",
            "  anaconda-navigator pkgs/main/linux-64::anaconda-navigator-1.9.12-py38_0\n",
            "  anaconda-project   pkgs/main/noarch::anaconda-project-0.8.4-py_0\n",
            "  argh               pkgs/main/linux-64::argh-0.26.2-py38_0\n",
            "  asn1crypto         pkgs/main/linux-64::asn1crypto-1.3.0-py38_0\n",
            "  astroid            pkgs/main/linux-64::astroid-2.4.2-py38_0\n",
            "  astropy            pkgs/main/linux-64::astropy-4.0.1.post1-py38h7b6447c_1\n",
            "  atomicwrites       pkgs/main/noarch::atomicwrites-1.4.0-py_0\n",
            "  attrs              pkgs/main/noarch::attrs-19.3.0-py_0\n",
            "  autopep8           pkgs/main/noarch::autopep8-1.5.3-py_0\n",
            "  babel              pkgs/main/noarch::babel-2.8.0-py_0\n",
            "  backcall           pkgs/main/noarch::backcall-0.2.0-py_0\n",
            "  backports          pkgs/main/noarch::backports-1.0-py_2\n",
            "  backports.functoo~ pkgs/main/noarch::backports.functools_lru_cache-1.6.1-py_0\n",
            "  backports.shutil_~ pkgs/main/linux-64::backports.shutil_get_terminal_size-1.0.0-py38_2\n",
            "  backports.tempfile pkgs/main/noarch::backports.tempfile-1.0-py_1\n",
            "  backports.weakref  pkgs/main/noarch::backports.weakref-1.0.post1-py_1\n",
            "  beautifulsoup4     pkgs/main/linux-64::beautifulsoup4-4.9.1-py38_0\n",
            "  bitarray           pkgs/main/linux-64::bitarray-1.4.0-py38h7b6447c_0\n",
            "  bkcharts           pkgs/main/linux-64::bkcharts-0.2-py38_0\n",
            "  blas               pkgs/main/linux-64::blas-1.0-mkl\n",
            "  bleach             pkgs/main/noarch::bleach-3.1.5-py_0\n",
            "  blosc              pkgs/main/linux-64::blosc-1.19.0-hd408876_0\n",
            "  bokeh              pkgs/main/linux-64::bokeh-2.1.1-py38_0\n",
            "  boto               pkgs/main/linux-64::boto-2.49.0-py38_0\n",
            "  bottleneck         pkgs/main/linux-64::bottleneck-1.3.2-py38heb32a55_1\n",
            "  brotlipy           pkgs/main/linux-64::brotlipy-0.7.0-py38h7b6447c_1000\n",
            "  bzip2              pkgs/main/linux-64::bzip2-1.0.8-h7b6447c_0\n",
            "  ca-certificates    pkgs/main/linux-64::ca-certificates-2020.6.24-0\n",
            "  cairo              pkgs/main/linux-64::cairo-1.14.12-h8948797_3\n",
            "  certifi            pkgs/main/linux-64::certifi-2020.6.20-py38_0\n",
            "  cffi               pkgs/main/linux-64::cffi-1.14.0-py38he30daa8_1\n",
            "  chardet            pkgs/main/linux-64::chardet-3.0.4-py38_1003\n",
            "  click              pkgs/main/noarch::click-7.1.2-py_0\n",
            "  cloudpickle        pkgs/main/noarch::cloudpickle-1.5.0-py_0\n",
            "  clyent             pkgs/main/linux-64::clyent-1.2.2-py38_1\n",
            "  colorama           pkgs/main/noarch::colorama-0.4.3-py_0\n",
            "  conda              pkgs/main/linux-64::conda-4.8.3-py38_0\n",
            "  conda-build        pkgs/main/linux-64::conda-build-3.18.11-py38_0\n",
            "  conda-env          pkgs/main/linux-64::conda-env-2.6.0-1\n",
            "  conda-package-han~ pkgs/main/linux-64::conda-package-handling-1.6.1-py38h7b6447c_0\n",
            "  conda-verify       pkgs/main/noarch::conda-verify-3.4.2-py_1\n",
            "  contextlib2        pkgs/main/noarch::contextlib2-0.6.0.post1-py_0\n",
            "  cryptography       pkgs/main/linux-64::cryptography-2.9.2-py38h1ba5d50_0\n",
            "  curl               pkgs/main/linux-64::curl-7.71.1-hbc83047_1\n",
            "  cycler             pkgs/main/linux-64::cycler-0.10.0-py38_0\n",
            "  cython             pkgs/main/linux-64::cython-0.29.21-py38he6710b0_0\n",
            "  cytoolz            pkgs/main/linux-64::cytoolz-0.10.1-py38h7b6447c_0\n",
            "  dask               pkgs/main/noarch::dask-2.20.0-py_0\n",
            "  dask-core          pkgs/main/noarch::dask-core-2.20.0-py_0\n",
            "  dbus               pkgs/main/linux-64::dbus-1.13.16-hb2f20db_0\n",
            "  decorator          pkgs/main/noarch::decorator-4.4.2-py_0\n",
            "  defusedxml         pkgs/main/noarch::defusedxml-0.6.0-py_0\n",
            "  diff-match-patch   pkgs/main/noarch::diff-match-patch-20200713-py_0\n",
            "  distributed        pkgs/main/linux-64::distributed-2.20.0-py38_0\n",
            "  docutils           pkgs/main/linux-64::docutils-0.16-py38_1\n",
            "  entrypoints        pkgs/main/linux-64::entrypoints-0.3-py38_0\n",
            "  et_xmlfile         pkgs/main/noarch::et_xmlfile-1.0.1-py_1001\n",
            "  expat              pkgs/main/linux-64::expat-2.2.9-he6710b0_2\n",
            "  fastcache          pkgs/main/linux-64::fastcache-1.1.0-py38h7b6447c_0\n",
            "  filelock           pkgs/main/noarch::filelock-3.0.12-py_0\n",
            "  flake8             pkgs/main/noarch::flake8-3.8.3-py_0\n",
            "  flask              pkgs/main/noarch::flask-1.1.2-py_0\n",
            "  fontconfig         pkgs/main/linux-64::fontconfig-2.13.0-h9420a91_0\n",
            "  freetype           pkgs/main/linux-64::freetype-2.10.2-h5ab3b9f_0\n",
            "  fribidi            pkgs/main/linux-64::fribidi-1.0.9-h7b6447c_0\n",
            "  fsspec             pkgs/main/noarch::fsspec-0.7.4-py_0\n",
            "  future             pkgs/main/linux-64::future-0.18.2-py38_1\n",
            "  get_terminal_size  pkgs/main/linux-64::get_terminal_size-1.0.0-haa9412d_0\n",
            "  gevent             pkgs/main/linux-64::gevent-20.6.2-py38h7b6447c_0\n",
            "  glib               pkgs/main/linux-64::glib-2.65.0-h3eb4bd4_0\n",
            "  glob2              pkgs/main/noarch::glob2-0.7-py_0\n",
            "  gmp                pkgs/main/linux-64::gmp-6.1.2-h6c8ec71_1\n",
            "  gmpy2              pkgs/main/linux-64::gmpy2-2.0.8-py38hd5f6e3b_3\n",
            "  graphite2          pkgs/main/linux-64::graphite2-1.3.14-h23475e2_0\n",
            "  greenlet           pkgs/main/linux-64::greenlet-0.4.16-py38h7b6447c_0\n",
            "  gst-plugins-base   pkgs/main/linux-64::gst-plugins-base-1.14.0-hbbd80ab_1\n",
            "  gstreamer          pkgs/main/linux-64::gstreamer-1.14.0-hb31296c_0\n",
            "  h5py               pkgs/main/linux-64::h5py-2.10.0-py38h7918eee_0\n",
            "  harfbuzz           pkgs/main/linux-64::harfbuzz-2.4.0-hca77d97_1\n",
            "  hdf5               pkgs/main/linux-64::hdf5-1.10.4-hb1b8bf9_0\n",
            "  heapdict           pkgs/main/noarch::heapdict-1.0.1-py_0\n",
            "  html5lib           pkgs/main/noarch::html5lib-1.1-py_0\n",
            "  icu                pkgs/main/linux-64::icu-58.2-he6710b0_3\n",
            "  idna               pkgs/main/noarch::idna-2.10-py_0\n",
            "  imageio            pkgs/main/noarch::imageio-2.9.0-py_0\n",
            "  imagesize          pkgs/main/noarch::imagesize-1.2.0-py_0\n",
            "  importlib-metadata pkgs/main/linux-64::importlib-metadata-1.7.0-py38_0\n",
            "  importlib_metadata pkgs/main/noarch::importlib_metadata-1.7.0-0\n",
            "  intel-openmp       pkgs/main/linux-64::intel-openmp-2020.1-217\n",
            "  intervaltree       pkgs/main/noarch::intervaltree-3.0.2-py_1\n",
            "  ipykernel          pkgs/main/linux-64::ipykernel-5.3.2-py38h5ca1d4c_0\n",
            "  ipython            pkgs/main/linux-64::ipython-7.16.1-py38h5ca1d4c_0\n",
            "  ipython_genutils   pkgs/main/linux-64::ipython_genutils-0.2.0-py38_0\n",
            "  ipywidgets         pkgs/main/noarch::ipywidgets-7.5.1-py_0\n",
            "  isort              pkgs/main/linux-64::isort-4.3.21-py38_0\n",
            "  itsdangerous       pkgs/main/noarch::itsdangerous-1.1.0-py_0\n",
            "  jbig               pkgs/main/linux-64::jbig-2.1-hdba287a_0\n",
            "  jdcal              pkgs/main/noarch::jdcal-1.4.1-py_0\n",
            "  jedi               pkgs/main/linux-64::jedi-0.17.1-py38_0\n",
            "  jeepney            pkgs/main/noarch::jeepney-0.4.3-py_0\n",
            "  jinja2             pkgs/main/noarch::jinja2-2.11.2-py_0\n",
            "  joblib             pkgs/main/noarch::joblib-0.16.0-py_0\n",
            "  jpeg               pkgs/main/linux-64::jpeg-9b-h024ee3a_2\n",
            "  json5              pkgs/main/noarch::json5-0.9.5-py_0\n",
            "  jsonschema         pkgs/main/linux-64::jsonschema-3.2.0-py38_0\n",
            "  jupyter            pkgs/main/linux-64::jupyter-1.0.0-py38_7\n",
            "  jupyter_client     pkgs/main/noarch::jupyter_client-6.1.6-py_0\n",
            "  jupyter_console    pkgs/main/noarch::jupyter_console-6.1.0-py_0\n",
            "  jupyter_core       pkgs/main/linux-64::jupyter_core-4.6.3-py38_0\n",
            "  jupyterlab         pkgs/main/noarch::jupyterlab-2.1.5-py_0\n",
            "  jupyterlab_server  pkgs/main/noarch::jupyterlab_server-1.2.0-py_0\n",
            "  keyring            pkgs/main/linux-64::keyring-21.2.1-py38_0\n",
            "  kiwisolver         pkgs/main/linux-64::kiwisolver-1.2.0-py38hfd86e86_0\n",
            "  krb5               pkgs/main/linux-64::krb5-1.18.2-h173b8e3_0\n",
            "  lazy-object-proxy  pkgs/main/linux-64::lazy-object-proxy-1.4.3-py38h7b6447c_0\n",
            "  lcms2              pkgs/main/linux-64::lcms2-2.11-h396b838_0\n",
            "  ld_impl_linux-64   pkgs/main/linux-64::ld_impl_linux-64-2.33.1-h53a641e_7\n",
            "  libarchive         pkgs/main/linux-64::libarchive-3.4.2-h62408e4_0\n",
            "  libcurl            pkgs/main/linux-64::libcurl-7.71.1-h20c2e04_1\n",
            "  libedit            pkgs/main/linux-64::libedit-3.1.20191231-h14c3975_1\n",
            "  libffi             pkgs/main/linux-64::libffi-3.3-he6710b0_2\n",
            "  libgcc-ng          pkgs/main/linux-64::libgcc-ng-9.1.0-hdf63c60_0\n",
            "  libgfortran-ng     pkgs/main/linux-64::libgfortran-ng-7.3.0-hdf63c60_0\n",
            "  liblief            pkgs/main/linux-64::liblief-0.10.1-he6710b0_0\n",
            "  libllvm9           pkgs/main/linux-64::libllvm9-9.0.1-h4a3c616_1\n",
            "  libpng             pkgs/main/linux-64::libpng-1.6.37-hbc83047_0\n",
            "  libsodium          pkgs/main/linux-64::libsodium-1.0.18-h7b6447c_0\n",
            "  libspatialindex    pkgs/main/linux-64::libspatialindex-1.9.3-he6710b0_0\n",
            "  libssh2            pkgs/main/linux-64::libssh2-1.9.0-h1ba5d50_1\n",
            "  libstdcxx-ng       pkgs/main/linux-64::libstdcxx-ng-9.1.0-hdf63c60_0\n",
            "  libtiff            pkgs/main/linux-64::libtiff-4.1.0-h2733197_1\n",
            "  libtool            pkgs/main/linux-64::libtool-2.4.6-h7b6447c_5\n",
            "  libuuid            pkgs/main/linux-64::libuuid-1.0.3-h1bed415_2\n",
            "  libxcb             pkgs/main/linux-64::libxcb-1.14-h7b6447c_0\n",
            "  libxml2            pkgs/main/linux-64::libxml2-2.9.10-he19cac6_1\n",
            "  libxslt            pkgs/main/linux-64::libxslt-1.1.34-hc22bd24_0\n",
            "  llvmlite           pkgs/main/linux-64::llvmlite-0.33.0-py38hc6ec683_1\n",
            "  locket             pkgs/main/linux-64::locket-0.2.0-py38_1\n",
            "  lxml               pkgs/main/linux-64::lxml-4.5.2-py38hefd8a0e_0\n",
            "  lz4-c              pkgs/main/linux-64::lz4-c-1.9.2-he6710b0_0\n",
            "  lzo                pkgs/main/linux-64::lzo-2.10-h7b6447c_2\n",
            "  markupsafe         pkgs/main/linux-64::markupsafe-1.1.1-py38h7b6447c_0\n",
            "  matplotlib         pkgs/main/linux-64::matplotlib-3.2.2-0\n",
            "  matplotlib-base    pkgs/main/linux-64::matplotlib-base-3.2.2-py38hef1b27d_0\n",
            "  mccabe             pkgs/main/linux-64::mccabe-0.6.1-py38_1\n",
            "  mistune            pkgs/main/linux-64::mistune-0.8.4-py38h7b6447c_1000\n",
            "  mkl                pkgs/main/linux-64::mkl-2020.1-217\n",
            "  mkl-service        pkgs/main/linux-64::mkl-service-2.3.0-py38he904b0f_0\n",
            "  mkl_fft            pkgs/main/linux-64::mkl_fft-1.1.0-py38h23d657b_0\n",
            "  mkl_random         pkgs/main/linux-64::mkl_random-1.1.1-py38h0573a6f_0\n",
            "  mock               pkgs/main/noarch::mock-4.0.2-py_0\n",
            "  more-itertools     pkgs/main/noarch::more-itertools-8.4.0-py_0\n",
            "  mpc                pkgs/main/linux-64::mpc-1.1.0-h10f8cd9_1\n",
            "  mpfr               pkgs/main/linux-64::mpfr-4.0.2-hb69a4c5_1\n",
            "  mpmath             pkgs/main/linux-64::mpmath-1.1.0-py38_0\n",
            "  msgpack-python     pkgs/main/linux-64::msgpack-python-1.0.0-py38hfd86e86_1\n",
            "  multipledispatch   pkgs/main/linux-64::multipledispatch-0.6.0-py38_0\n",
            "  navigator-updater  pkgs/main/linux-64::navigator-updater-0.2.1-py38_0\n",
            "  nbconvert          pkgs/main/linux-64::nbconvert-5.6.1-py38_0\n",
            "  nbformat           pkgs/main/noarch::nbformat-5.0.7-py_0\n",
            "  ncurses            pkgs/main/linux-64::ncurses-6.2-he6710b0_1\n",
            "  networkx           pkgs/main/noarch::networkx-2.4-py_1\n",
            "  nltk               pkgs/main/noarch::nltk-3.5-py_0\n",
            "  nose               pkgs/main/linux-64::nose-1.3.7-py38_2\n",
            "  notebook           pkgs/main/linux-64::notebook-6.0.3-py38_0\n",
            "  numba              pkgs/main/linux-64::numba-0.50.1-py38h0573a6f_1\n",
            "  numexpr            pkgs/main/linux-64::numexpr-2.7.1-py38h423224d_0\n",
            "  numpy              pkgs/main/linux-64::numpy-1.18.5-py38ha1c710e_0\n",
            "  numpy-base         pkgs/main/linux-64::numpy-base-1.18.5-py38hde5b4d6_0\n",
            "  numpydoc           pkgs/main/noarch::numpydoc-1.1.0-py_0\n",
            "  olefile            pkgs/main/noarch::olefile-0.46-py_0\n",
            "  openpyxl           pkgs/main/noarch::openpyxl-3.0.4-py_0\n",
            "  openssl            pkgs/main/linux-64::openssl-1.1.1g-h7b6447c_0\n",
            "  packaging          pkgs/main/noarch::packaging-20.4-py_0\n",
            "  pandas             pkgs/main/linux-64::pandas-1.0.5-py38h0573a6f_0\n",
            "  pandoc             pkgs/main/linux-64::pandoc-2.10-0\n",
            "  pandocfilters      pkgs/main/linux-64::pandocfilters-1.4.2-py38_1\n",
            "  pango              pkgs/main/linux-64::pango-1.45.3-hd140c19_0\n",
            "  parso              pkgs/main/noarch::parso-0.7.0-py_0\n",
            "  partd              pkgs/main/noarch::partd-1.1.0-py_0\n",
            "  patchelf           pkgs/main/linux-64::patchelf-0.11-he6710b0_0\n",
            "  path               pkgs/main/linux-64::path-13.1.0-py38_0\n",
            "  path.py            pkgs/main/noarch::path.py-12.4.0-0\n",
            "  pathlib2           pkgs/main/linux-64::pathlib2-2.3.5-py38_0\n",
            "  pathtools          pkgs/main/noarch::pathtools-0.1.2-py_1\n",
            "  patsy              pkgs/main/linux-64::patsy-0.5.1-py38_0\n",
            "  pcre               pkgs/main/linux-64::pcre-8.44-he6710b0_0\n",
            "  pep8               pkgs/main/linux-64::pep8-1.7.1-py38_0\n",
            "  pexpect            pkgs/main/linux-64::pexpect-4.8.0-py38_0\n",
            "  pickleshare        pkgs/main/linux-64::pickleshare-0.7.5-py38_1000\n",
            "  pillow             pkgs/main/linux-64::pillow-7.2.0-py38hb39fc2d_0\n",
            "  pip                pkgs/main/linux-64::pip-20.1.1-py38_1\n",
            "  pixman             pkgs/main/linux-64::pixman-0.40.0-h7b6447c_0\n",
            "  pkginfo            pkgs/main/linux-64::pkginfo-1.5.0.1-py38_0\n",
            "  pluggy             pkgs/main/linux-64::pluggy-0.13.1-py38_0\n",
            "  ply                pkgs/main/linux-64::ply-3.11-py38_0\n",
            "  prometheus_client  pkgs/main/noarch::prometheus_client-0.8.0-py_0\n",
            "  prompt-toolkit     pkgs/main/noarch::prompt-toolkit-3.0.5-py_0\n",
            "  prompt_toolkit     pkgs/main/noarch::prompt_toolkit-3.0.5-0\n",
            "  psutil             pkgs/main/linux-64::psutil-5.7.0-py38h7b6447c_0\n",
            "  ptyprocess         pkgs/main/linux-64::ptyprocess-0.6.0-py38_0\n",
            "  py                 pkgs/main/noarch::py-1.9.0-py_0\n",
            "  py-lief            pkgs/main/linux-64::py-lief-0.10.1-py38h403a769_0\n",
            "  pycodestyle        pkgs/main/noarch::pycodestyle-2.6.0-py_0\n",
            "  pycosat            pkgs/main/linux-64::pycosat-0.6.3-py38h7b6447c_1\n",
            "  pycparser          pkgs/main/noarch::pycparser-2.20-py_2\n",
            "  pycurl             pkgs/main/linux-64::pycurl-7.43.0.5-py38h1ba5d50_0\n",
            "  pydocstyle         pkgs/main/noarch::pydocstyle-5.0.2-py_0\n",
            "  pyflakes           pkgs/main/noarch::pyflakes-2.2.0-py_0\n",
            "  pygments           pkgs/main/noarch::pygments-2.6.1-py_0\n",
            "  pylint             pkgs/main/linux-64::pylint-2.5.3-py38_0\n",
            "  pyodbc             pkgs/main/linux-64::pyodbc-4.0.30-py38he6710b0_0\n",
            "  pyopenssl          pkgs/main/noarch::pyopenssl-19.1.0-py_1\n",
            "  pyparsing          pkgs/main/noarch::pyparsing-2.4.7-py_0\n",
            "  pyqt               pkgs/main/linux-64::pyqt-5.9.2-py38h05f1152_4\n",
            "  pyrsistent         pkgs/main/linux-64::pyrsistent-0.16.0-py38h7b6447c_0\n",
            "  pysocks            pkgs/main/linux-64::pysocks-1.7.1-py38_0\n",
            "  pytables           pkgs/main/linux-64::pytables-3.6.1-py38h9fd0a39_0\n",
            "  pytest             pkgs/main/linux-64::pytest-5.4.3-py38_0\n",
            "  python             pkgs/main/linux-64::python-3.8.3-hcff3b4d_2\n",
            "  python-dateutil    pkgs/main/noarch::python-dateutil-2.8.1-py_0\n",
            "  python-jsonrpc-se~ pkgs/main/noarch::python-jsonrpc-server-0.3.4-py_1\n",
            "  python-language-s~ pkgs/main/linux-64::python-language-server-0.34.1-py38_0\n",
            "  python-libarchive~ pkgs/main/noarch::python-libarchive-c-2.9-py_0\n",
            "  pytz               pkgs/main/noarch::pytz-2020.1-py_0\n",
            "  pywavelets         pkgs/main/linux-64::pywavelets-1.1.1-py38h7b6447c_0\n",
            "  pyxdg              pkgs/main/noarch::pyxdg-0.26-py_0\n",
            "  pyyaml             pkgs/main/linux-64::pyyaml-5.3.1-py38h7b6447c_1\n",
            "  pyzmq              pkgs/main/linux-64::pyzmq-19.0.1-py38he6710b0_1\n",
            "  qdarkstyle         pkgs/main/noarch::qdarkstyle-2.8.1-py_0\n",
            "  qt                 pkgs/main/linux-64::qt-5.9.7-h5867ecd_1\n",
            "  qtawesome          pkgs/main/noarch::qtawesome-0.7.2-py_0\n",
            "  qtconsole          pkgs/main/noarch::qtconsole-4.7.5-py_0\n",
            "  qtpy               pkgs/main/noarch::qtpy-1.9.0-py_0\n",
            "  readline           pkgs/main/linux-64::readline-8.0-h7b6447c_0\n",
            "  regex              pkgs/main/linux-64::regex-2020.6.8-py38h7b6447c_0\n",
            "  requests           pkgs/main/noarch::requests-2.24.0-py_0\n",
            "  ripgrep            pkgs/main/linux-64::ripgrep-11.0.2-he32d670_0\n",
            "  rope               pkgs/main/noarch::rope-0.17.0-py_0\n",
            "  rtree              pkgs/main/linux-64::rtree-0.9.4-py38_1\n",
            "  ruamel_yaml        pkgs/main/linux-64::ruamel_yaml-0.15.87-py38h7b6447c_1\n",
            "  scikit-image       pkgs/main/linux-64::scikit-image-0.16.2-py38h0573a6f_0\n",
            "  scikit-learn       pkgs/main/linux-64::scikit-learn-0.23.1-py38h423224d_0\n",
            "  scipy              pkgs/main/linux-64::scipy-1.5.0-py38h0b6359f_0\n",
            "  seaborn            pkgs/main/noarch::seaborn-0.10.1-py_0\n",
            "  secretstorage      pkgs/main/linux-64::secretstorage-3.1.2-py38_0\n",
            "  send2trash         pkgs/main/linux-64::send2trash-1.5.0-py38_0\n",
            "  setuptools         pkgs/main/linux-64::setuptools-49.2.0-py38_0\n",
            "  simplegeneric      pkgs/main/linux-64::simplegeneric-0.8.1-py38_2\n",
            "  singledispatch     pkgs/main/linux-64::singledispatch-3.4.0.3-py38_0\n",
            "  sip                pkgs/main/linux-64::sip-4.19.13-py38he6710b0_0\n",
            "  six                pkgs/main/noarch::six-1.15.0-py_0\n",
            "  snappy             pkgs/main/linux-64::snappy-1.1.8-he6710b0_0\n",
            "  snowballstemmer    pkgs/main/noarch::snowballstemmer-2.0.0-py_0\n",
            "  sortedcollections  pkgs/main/noarch::sortedcollections-1.2.1-py_0\n",
            "  sortedcontainers   pkgs/main/noarch::sortedcontainers-2.2.2-py_0\n",
            "  soupsieve          pkgs/main/noarch::soupsieve-2.0.1-py_0\n",
            "  sphinx             pkgs/main/noarch::sphinx-3.1.2-py_0\n",
            "  sphinxcontrib      pkgs/main/linux-64::sphinxcontrib-1.0-py38_1\n",
            "  sphinxcontrib-app~ pkgs/main/noarch::sphinxcontrib-applehelp-1.0.2-py_0\n",
            "  sphinxcontrib-dev~ pkgs/main/noarch::sphinxcontrib-devhelp-1.0.2-py_0\n",
            "  sphinxcontrib-htm~ pkgs/main/noarch::sphinxcontrib-htmlhelp-1.0.3-py_0\n",
            "  sphinxcontrib-jsm~ pkgs/main/noarch::sphinxcontrib-jsmath-1.0.1-py_0\n",
            "  sphinxcontrib-qth~ pkgs/main/noarch::sphinxcontrib-qthelp-1.0.3-py_0\n",
            "  sphinxcontrib-ser~ pkgs/main/noarch::sphinxcontrib-serializinghtml-1.1.4-py_0\n",
            "  sphinxcontrib-web~ pkgs/main/noarch::sphinxcontrib-websupport-1.2.3-py_0\n",
            "  spyder             pkgs/main/linux-64::spyder-4.1.4-py38_0\n",
            "  spyder-kernels     pkgs/main/linux-64::spyder-kernels-1.9.2-py38_0\n",
            "  sqlalchemy         pkgs/main/linux-64::sqlalchemy-1.3.18-py38h7b6447c_0\n",
            "  sqlite             pkgs/main/linux-64::sqlite-3.32.3-h62c20be_0\n",
            "  statsmodels        pkgs/main/linux-64::statsmodels-0.11.1-py38h7b6447c_0\n",
            "  sympy              pkgs/main/linux-64::sympy-1.6.1-py38_0\n",
            "  tbb                pkgs/main/linux-64::tbb-2020.0-hfd86e86_0\n",
            "  tblib              pkgs/main/noarch::tblib-1.6.0-py_0\n",
            "  terminado          pkgs/main/linux-64::terminado-0.8.3-py38_0\n",
            "  testpath           pkgs/main/noarch::testpath-0.4.4-py_0\n",
            "  threadpoolctl      pkgs/main/noarch::threadpoolctl-2.1.0-pyh5ca1d4c_0\n",
            "  tk                 pkgs/main/linux-64::tk-8.6.10-hbc83047_0\n",
            "  toml               pkgs/main/noarch::toml-0.10.1-py_0\n",
            "  toolz              pkgs/main/noarch::toolz-0.10.0-py_0\n",
            "  tornado            pkgs/main/linux-64::tornado-6.0.4-py38h7b6447c_1\n",
            "  tqdm               pkgs/main/noarch::tqdm-4.47.0-py_0\n",
            "  traitlets          pkgs/main/linux-64::traitlets-4.3.3-py38_0\n",
            "  typing_extensions  pkgs/main/noarch::typing_extensions-3.7.4.2-py_0\n",
            "  ujson              pkgs/main/linux-64::ujson-1.35-py38h7b6447c_0\n",
            "  unicodecsv         pkgs/main/linux-64::unicodecsv-0.14.1-py38_0\n",
            "  unixodbc           pkgs/main/linux-64::unixodbc-2.3.7-h14c3975_0\n",
            "  urllib3            pkgs/main/noarch::urllib3-1.25.9-py_0\n",
            "  watchdog           pkgs/main/linux-64::watchdog-0.10.3-py38_0\n",
            "  wcwidth            pkgs/main/noarch::wcwidth-0.2.5-py_0\n",
            "  webencodings       pkgs/main/linux-64::webencodings-0.5.1-py38_1\n",
            "  werkzeug           pkgs/main/noarch::werkzeug-1.0.1-py_0\n",
            "  wheel              pkgs/main/linux-64::wheel-0.34.2-py38_0\n",
            "  widgetsnbextension pkgs/main/linux-64::widgetsnbextension-3.5.1-py38_0\n",
            "  wrapt              pkgs/main/linux-64::wrapt-1.11.2-py38h7b6447c_0\n",
            "  wurlitzer          pkgs/main/linux-64::wurlitzer-2.0.1-py38_0\n",
            "  xlrd               pkgs/main/noarch::xlrd-1.2.0-py_0\n",
            "  xlsxwriter         pkgs/main/noarch::xlsxwriter-1.2.9-py_0\n",
            "  xlwt               pkgs/main/linux-64::xlwt-1.3.0-py38_0\n",
            "  xmltodict          pkgs/main/noarch::xmltodict-0.12.0-py_0\n",
            "  xz                 pkgs/main/linux-64::xz-5.2.5-h7b6447c_0\n",
            "  yaml               pkgs/main/linux-64::yaml-0.2.5-h7b6447c_0\n",
            "  yapf               pkgs/main/noarch::yapf-0.30.0-py_0\n",
            "  zeromq             pkgs/main/linux-64::zeromq-4.3.2-he6710b0_2\n",
            "  zict               pkgs/main/noarch::zict-2.0.0-py_0\n",
            "  zipp               pkgs/main/noarch::zipp-3.1.0-py_0\n",
            "  zlib               pkgs/main/linux-64::zlib-1.2.11-h7b6447c_3\n",
            "  zope               pkgs/main/linux-64::zope-1.0-py38_1\n",
            "  zope.event         pkgs/main/linux-64::zope.event-4.4-py38_0\n",
            "  zope.interface     pkgs/main/linux-64::zope.interface-4.7.1-py38h7b6447c_0\n",
            "  zstd               pkgs/main/linux-64::zstd-1.4.5-h0b5b093_0\n",
            "\n",
            "\n",
            "Preparing transaction: - \b\b\\ \b\b| \b\b/ \b\b- \b\b\\ \b\b| \b\b/ \b\b- \b\b\\ \b\b| \b\b/ \b\b- \b\b\\ \b\b| \b\b/ \b\b- \b\b\\ \b\b| \b\b/ \b\b- \b\b\\ \b\b| \b\b/ \b\b- \b\b\\ \b\b| \b\b/ \b\b- \b\b\\ \b\bdone\n",
            "Executing transaction: / \b\b- \b\b\\ \b\b| \b\b/ \b\b- \b\b\\ \b\b| \b\b/ \b\b- \b\b\\ \b\b| \b\b/ \b\b- \b\b\\ \b\b| \b\b/ \b\b- \b\b\\ \b\b| \b\b/ \b\b- \b\b\\ \b\b| \b\b/ \b\b- \b\b\\ \b\b| \b\b/ \b\b- \b\b\\ \b\b| \b\b/ \b\b- \b\b\\ \b\b| \b\b/ \b\b- \b\b\\ \b\b| \b\b/ \b\b- \b\b\\ \b\b| \b\b/ \b\b- \b\b\\ \b\b| \b\b/ \b\b- \b\b\\ \b\b| \b\b/ \b\b- \b\b\\ \b\b| \b\b/ \b\b- \b\b\\ \b\b| \b\b/ \b\b- \b\b\\ \b\b| \b\b/ \b\b- \b\b\\ \b\b| \b\b/ \b\b- \b\b\\ \b\b| \b\b/ \b\b- \b\b\\ \b\b| \b\b/ \b\b- \b\b\\ \b\b| \b\b/ \b\b- \b\b\\ \b\b| \b\b/ \b\b- \b\b\\ \b\b| \b\b/ \b\b- \b\b\\ \b\b| \b\b/ \b\b- \b\b\\ \b\b| \b\b/ \b\b- \b\b\\ \b\b| \b\b/ \b\b- \b\b\\ \b\b| \b\b/ \b\b- \b\b\\ \b\b| \b\b/ \b\b- \b\b\\ \b\b| \b\b/ \b\b- \b\b\\ \b\b| \b\b/ \b\b- \b\b\\ \b\b| \b\b/ \b\b- \b\b\\ \b\b| \b\b/ \b\b- \b\b\\ \b\b| \b\b/ \b\b- \b\b\\ \b\b| \b\b/ \b\b- \b\b\\ \b\b| \b\b/ \b\b- \b\b\\ \b\b| \b\b/ \b\b- \b\b\\ \b\b| \b\b/ \b\b- \b\b\\ \b\b| \b\b/ \b\b- \b\b\\ \b\b| \b\b/ \b\b- \b\b\\ \b\b| \b\b/ \b\b- \b\b\\ \b\b| \b\b/ \b\b- \b\b\\ \b\bdone\n",
            "installation finished.\n",
            "WARNING:\n",
            "    You currently have a PYTHONPATH environment variable set. This may cause\n",
            "    unexpected behavior when running the Python interpreter in Anaconda3.\n",
            "    For best results, please verify that your PYTHONPATH only points to\n",
            "    directories of packages that are compatible with the Python interpreter\n",
            "    in Anaconda3: /usr/local\n",
            "Collecting package metadata (current_repodata.json): ...working... done\n",
            "Solving environment: ...working... failed with initial frozen solve. Retrying with flexible solve.\n",
            "Solving environment: ...working... failed with repodata from current_repodata.json, will retry with next repodata source.\n",
            "Collecting package metadata (repodata.json): ...working... done\n",
            "Solving environment: ...working... done\n",
            "\n",
            "## Package Plan ##\n",
            "\n",
            "  environment location: /usr/local\n",
            "\n",
            "  added / updated specs:\n",
            "    - faiss-cpu\n",
            "\n",
            "\n",
            "The following packages will be downloaded:\n",
            "\n",
            "    package                    |            build\n",
            "    ---------------------------|-----------------\n",
            "    conda-4.12.0               |   py38h06a4308_0        14.5 MB\n",
            "    faiss-cpu-1.7.1            |py3.8_h2a577fa_1_cpu         1.7 MB  pytorch\n",
            "    libfaiss-1.7.1             |   h2bc3f7f_1_cpu         2.0 MB  pytorch\n",
            "    ------------------------------------------------------------\n",
            "                                           Total:        18.2 MB\n",
            "\n",
            "The following NEW packages will be INSTALLED:\n",
            "\n",
            "  faiss-cpu          pytorch/linux-64::faiss-cpu-1.7.1-py3.8_h2a577fa_1_cpu\n",
            "  libfaiss           pytorch/linux-64::libfaiss-1.7.1-h2bc3f7f_1_cpu\n",
            "\n",
            "The following packages will be UPDATED:\n",
            "\n",
            "  conda                                        4.8.3-py38_0 --> 4.12.0-py38h06a4308_0\n",
            "\n",
            "\n",
            "Preparing transaction: ...working... done\n",
            "Verifying transaction: ...working... done\n",
            "Executing transaction: ...working... done\n"
          ]
        }
      ]
    },
    {
      "cell_type": "code",
      "source": [
        "faiss"
      ],
      "metadata": {
        "id": "1PGo_K51NaH4",
        "colab": {
          "base_uri": "https://localhost:8080/"
        },
        "outputId": "93de1e53-4847-481a-df26-2bc13864c75d"
      },
      "execution_count": null,
      "outputs": [
        {
          "output_type": "execute_result",
          "data": {
            "text/plain": [
              "<module 'faiss' from '/usr/local/lib/python3.8/site-packages/faiss/__init__.py'>"
            ]
          },
          "metadata": {},
          "execution_count": 2
        }
      ]
    },
    {
      "cell_type": "code",
      "source": [
        "import os, sys\n",
        "from google.colab import drive\n",
        "drive.mount('/content/mnt')\n",
        "\n",
        "nb_path = '/content/lib'\n",
        "os.symlink('/content/mnt/MyDrive/colab-lib', nb_path)\n",
        "\n",
        "if nb_path not in sys.path:\n",
        "  sys.path.insert(0, nb_path)\n",
        "\n",
        "!pip install --target=$nb_path jdc\n",
        "\n",
        "import jdc"
      ],
      "metadata": {
        "id": "6poRse2a8JBu",
        "colab": {
          "base_uri": "https://localhost:8080/"
        },
        "outputId": "b87db3f9-e4aa-4f84-d862-3aa53ea27cce"
      },
      "execution_count": null,
      "outputs": [
        {
          "output_type": "stream",
          "name": "stdout",
          "text": [
            "Mounted at /content/mnt\n",
            "Collecting jdc\n",
            "  Downloading jdc-0.0.9-py2.py3-none-any.whl.metadata (817 bytes)\n",
            "Downloading jdc-0.0.9-py2.py3-none-any.whl (2.1 kB)\n",
            "Installing collected packages: jdc\n",
            "Successfully installed jdc-0.0.9\n",
            "\u001b[33mWARNING: Target directory /content/lib/jdc already exists. Specify --upgrade to force replacement.\u001b[0m\u001b[33m\n",
            "\u001b[0m\u001b[33mWARNING: Target directory /content/lib/jdc-0.0.9.dist-info already exists. Specify --upgrade to force replacement.\u001b[0m\u001b[33m\n",
            "\u001b[0m"
          ]
        }
      ]
    },
    {
      "cell_type": "markdown",
      "source": [
        "# **Advanced**"
      ],
      "metadata": {
        "id": "KvARrq2OCcCf"
      }
    },
    {
      "cell_type": "markdown",
      "source": [
        "## Existing Magic"
      ],
      "metadata": {
        "id": "2iYAAkRHClAY"
      }
    },
    {
      "cell_type": "markdown",
      "source": [
        "### HTML Magic"
      ],
      "metadata": {
        "id": "hhTYa7jmDK5p"
      }
    },
    {
      "cell_type": "code",
      "source": [
        "%%html\n",
        "<h1>HTML Magic</h1>"
      ],
      "metadata": {
        "colab": {
          "base_uri": "https://localhost:8080/",
          "height": 74
        },
        "id": "SrCULgyJDKAV",
        "outputId": "3ba89d54-b182-43dc-8111-b7c9e93c8a00"
      },
      "execution_count": null,
      "outputs": [
        {
          "output_type": "display_data",
          "data": {
            "text/plain": [
              "<IPython.core.display.HTML object>"
            ],
            "text/html": [
              "<h1>HTML Magic</h1>\n"
            ]
          },
          "metadata": {}
        }
      ]
    },
    {
      "cell_type": "markdown",
      "source": [
        "### R Magic"
      ],
      "metadata": {
        "id": "C2VRBM3NDTii"
      }
    },
    {
      "cell_type": "code",
      "source": [
        "%load_ext rpy2.ipython"
      ],
      "metadata": {
        "id": "XSsfiO9fDSjN"
      },
      "execution_count": null,
      "outputs": []
    },
    {
      "cell_type": "code",
      "source": [
        "%%R\n",
        "x <- 28\n",
        "print(x)"
      ],
      "metadata": {
        "colab": {
          "base_uri": "https://localhost:8080/"
        },
        "id": "z1b5VmXTCzt8",
        "outputId": "697be467-5d40-484b-8516-ad4a42679b6f"
      },
      "execution_count": null,
      "outputs": [
        {
          "output_type": "stream",
          "name": "stdout",
          "text": [
            "[1] 28\n"
          ]
        }
      ]
    },
    {
      "cell_type": "markdown",
      "source": [
        "## New Magic"
      ],
      "metadata": {
        "id": "4b6sI0A3Doik"
      }
    },
    {
      "cell_type": "code",
      "source": [
        "import re\n",
        "from IPython.display import HTML\n",
        "from IPython.core.magic import register_cell_magic"
      ],
      "metadata": {
        "id": "xwv-kl5DDnst"
      },
      "execution_count": null,
      "outputs": []
    },
    {
      "cell_type": "code",
      "source": [
        "def var_sub(m):\n",
        "  v = globals()[m[1]]\n",
        "  if type(v) != str:\n",
        "    v = repr(v)\n",
        "  return v"
      ],
      "metadata": {
        "id": "vomJ8yQXDy3F"
      },
      "execution_count": null,
      "outputs": []
    },
    {
      "cell_type": "code",
      "source": [
        "@register_cell_magic\n",
        "def javascript(line=\"\", cell=\"\"):\n",
        "  # var sub\n",
        "  cell = re.sub(r'\\{\\{(\\w+)+}}', var_sub, cell)\n",
        "\n",
        "  m = re.match(r'\\w+', line)\n",
        "  if m:                       # assign to a variable\n",
        "    globals()[m[0]] = cell\n",
        "  else:                       # normal display\n",
        "    display(HTML(\"\"\"\n",
        "<div id=\"drawing\"></div>\n",
        "<script src=\"https://cdnjs.cloudflare.com/ajax/libs/svg.js/2.6.5/svg.js\"></script>\n",
        "<script>\n",
        "var draw = SVG('drawing').size('100%', 100)\n",
        "var y_cursor_pos = 0\n",
        "function print(x){\n",
        "  draw.text(x.toString()).move(400, y_cursor_pos)\n",
        "  y_cursor_pos += 20\n",
        "}\n",
        "\n",
        "text = s=> draw.text(s).font('anchor', 'middle')\n",
        "line = (x1,y1, x2,y2)=> draw.line(x1,y1, x2, y2).stroke({width: 1})\n",
        "max = Math.max\n",
        "\"\"\" + cell))"
      ],
      "metadata": {
        "id": "dzSfvVMrD1bD"
      },
      "execution_count": null,
      "outputs": []
    },
    {
      "cell_type": "code",
      "source": [
        "%%javascript\n",
        "\n",
        "draw.rect(50, 50)"
      ],
      "metadata": {
        "colab": {
          "base_uri": "https://localhost:8080/",
          "height": 121
        },
        "id": "j97B8lLYD4aS",
        "outputId": "d54759d5-4d32-465a-f25b-6a646a7ab92c"
      },
      "execution_count": null,
      "outputs": [
        {
          "output_type": "display_data",
          "data": {
            "text/plain": [
              "<IPython.core.display.HTML object>"
            ],
            "text/html": [
              "\n",
              "<div id=\"drawing\"></div>\n",
              "<script src=\"https://cdnjs.cloudflare.com/ajax/libs/svg.js/2.6.5/svg.js\"></script>\n",
              "<script>\n",
              "var draw = SVG('drawing').size('100%', 100)\n",
              "var y_cursor_pos = 0\n",
              "function print(x){\n",
              "  draw.text(x.toString()).move(400, y_cursor_pos)\n",
              "  y_cursor_pos += 20\n",
              "}\n",
              "\n",
              "text = s=> draw.text(s).font('anchor', 'middle')\n",
              "line = (x1,y1, x2,y2)=> draw.line(x1,y1, x2, y2).stroke({width: 1})\n",
              "max = Math.max\n",
              "\n",
              "draw.rect(50, 50)\n"
            ]
          },
          "metadata": {}
        }
      ]
    },
    {
      "cell_type": "markdown",
      "source": [
        "## Elastic Search Magic"
      ],
      "metadata": {
        "id": "k_uoFJ_GEPg9"
      }
    },
    {
      "cell_type": "code",
      "source": [
        "!wget https://artifacts.elastic.co/downloads/elasticsearch/elasticsearch-8.15.1-linux-x86_64.tar.gz -q\n",
        "!tar -xzf elasticsearch-8.15.1-linux-x86_64.tar.gz\n",
        "!chown -R daemon:daemon elasticsearch-8.15.1"
      ],
      "metadata": {
        "id": "EhElRESZEOyy"
      },
      "execution_count": null,
      "outputs": []
    },
    {
      "cell_type": "code",
      "source": [
        "import os\n",
        "from subprocess import Popen, PIPE, STDOUT\n",
        "es_server = Popen(['elasticsearch-8.15.1/bin/elasticsearch'],\n",
        "                  stdout=PIPE, stderr=STDOUT,\n",
        "                  preexec_fn=lambda: os.setuid(1)\n",
        "                 )"
      ],
      "metadata": {
        "id": "4Q-sGvJJEYPz"
      },
      "execution_count": null,
      "outputs": []
    },
    {
      "cell_type": "code",
      "source": [
        "!curl -X GET \"localhost:9200/\""
      ],
      "metadata": {
        "colab": {
          "base_uri": "https://localhost:8080/"
        },
        "id": "79ZYH4l0EaiY",
        "outputId": "6d7c9e1b-e038-4d73-db00-d2126f42808e"
      },
      "execution_count": null,
      "outputs": [
        {
          "output_type": "stream",
          "name": "stdout",
          "text": [
            "{\n",
            "  \"name\" : \"5c30c41e26c7\",\n",
            "  \"cluster_name\" : \"elasticsearch\",\n",
            "  \"cluster_uuid\" : \"x2Z-Eu5uRKKr2th3ElQnRA\",\n",
            "  \"version\" : {\n",
            "    \"number\" : \"7.0.0\",\n",
            "    \"build_flavor\" : \"default\",\n",
            "    \"build_type\" : \"tar\",\n",
            "    \"build_hash\" : \"b7e28a7\",\n",
            "    \"build_date\" : \"2019-04-05T22:55:32.697037Z\",\n",
            "    \"build_snapshot\" : false,\n",
            "    \"lucene_version\" : \"8.0.0\",\n",
            "    \"minimum_wire_compatibility_version\" : \"6.7.0\",\n",
            "    \"minimum_index_compatibility_version\" : \"6.0.0-beta1\"\n",
            "  },\n",
            "  \"tagline\" : \"You Know, for Search\"\n",
            "}\n"
          ]
        }
      ]
    },
    {
      "cell_type": "code",
      "source": [
        "from requests import models, Session, Request\n",
        "from urllib.parse import urljoin\n",
        "from IPython.core.magic import register_cell_magic\n",
        "import re\n",
        "\n",
        "# to display json response\n",
        "def render(r):\n",
        "  text = r.text\n",
        "  if text[0] in \"[{\":  # really json\n",
        "    return \"\"\"\n",
        "    <script src=\"https://rawgit.com/caldwell/renderjson/master/renderjson.js\"></script>\n",
        "    <script>\n",
        "    renderjson.set_show_to_level(1)\n",
        "    document.body.appendChild(renderjson(%s))\n",
        "    new ResizeObserver(google.colab.output.resizeIframeToContent).observe(document.body)\n",
        "    </script>\n",
        "    \"\"\" % text\n",
        "  else:    # other status text\n",
        "    return \"<pre>%s</pre>\" % text\n",
        "models.Response._repr_html_ = render"
      ],
      "metadata": {
        "id": "rLHzFDjcFlkK"
      },
      "execution_count": null,
      "outputs": []
    },
    {
      "cell_type": "code",
      "source": [
        "@register_cell_magic\n",
        "def es(line=None, cell=\"\"):\n",
        "  cell = re.sub(r'(?m)^\\s*#.*\\n?','', cell) # remove comment\n",
        "  line1 = (cell + '\\n').find('\\n')\n",
        "  method, path = cell[:line1].split(None, 1)\n",
        "  body = cell[line1:].strip()\n",
        "  args = {}\n",
        "  if body:\n",
        "    args['data'] = (body + '\\n').encode()  # in case _bulk\n",
        "    args['headers'] = {'Content-Type': 'application/json'}\n",
        "\n",
        "  rsp = Session().send(\n",
        "          Request(method, urljoin('http://localhost:9200', path), **args)\n",
        "            .prepare())\n",
        "  return rsp"
      ],
      "metadata": {
        "id": "I0EZgXsBFqQX"
      },
      "execution_count": null,
      "outputs": []
    },
    {
      "cell_type": "code",
      "source": [
        "%%es\n",
        "GET /"
      ],
      "metadata": {
        "colab": {
          "base_uri": "https://localhost:8080/",
          "height": 139
        },
        "id": "Ukxa8pofFth_",
        "outputId": "40ab192b-5156-4077-a5bb-f356d9d6c044"
      },
      "execution_count": null,
      "outputs": [
        {
          "output_type": "execute_result",
          "data": {
            "text/plain": [
              "<Response [200]>"
            ],
            "text/html": [
              "\n",
              "    <script src=\"https://rawgit.com/caldwell/renderjson/master/renderjson.js\"></script>\n",
              "    <script>\n",
              "    renderjson.set_show_to_level(1)\n",
              "    document.body.appendChild(renderjson({\n",
              "  \"name\" : \"5c30c41e26c7\",\n",
              "  \"cluster_name\" : \"elasticsearch\",\n",
              "  \"cluster_uuid\" : \"x2Z-Eu5uRKKr2th3ElQnRA\",\n",
              "  \"version\" : {\n",
              "    \"number\" : \"7.0.0\",\n",
              "    \"build_flavor\" : \"default\",\n",
              "    \"build_type\" : \"tar\",\n",
              "    \"build_hash\" : \"b7e28a7\",\n",
              "    \"build_date\" : \"2019-04-05T22:55:32.697037Z\",\n",
              "    \"build_snapshot\" : false,\n",
              "    \"lucene_version\" : \"8.0.0\",\n",
              "    \"minimum_wire_compatibility_version\" : \"6.7.0\",\n",
              "    \"minimum_index_compatibility_version\" : \"6.0.0-beta1\"\n",
              "  },\n",
              "  \"tagline\" : \"You Know, for Search\"\n",
              "}\n",
              "))\n",
              "    new ResizeObserver(google.colab.output.resizeIframeToContent).observe(document.body)\n",
              "    </script>\n",
              "    "
            ]
          },
          "metadata": {},
          "execution_count": 31
        }
      ]
    },
    {
      "cell_type": "code",
      "source": [
        "%%es\n",
        "PUT /customer/_doc/1\n",
        "{\n",
        "  \"name\": \"John Lennon\"\n",
        "}"
      ],
      "metadata": {
        "colab": {
          "base_uri": "https://localhost:8080/",
          "height": 191
        },
        "id": "YUuqMe8MFvMV",
        "outputId": "a651f784-f9af-435d-eea0-a78f761ed915"
      },
      "execution_count": null,
      "outputs": [
        {
          "output_type": "execute_result",
          "data": {
            "text/plain": [
              "<Response [201]>"
            ],
            "text/html": [
              "\n",
              "    <script src=\"https://rawgit.com/caldwell/renderjson/master/renderjson.js\"></script>\n",
              "    <script>\n",
              "    renderjson.set_show_to_level(1)\n",
              "    document.body.appendChild(renderjson({\"_index\":\"customer\",\"_type\":\"_doc\",\"_id\":\"1\",\"_version\":1,\"result\":\"created\",\"_shards\":{\"total\":2,\"successful\":1,\"failed\":0},\"_seq_no\":0,\"_primary_term\":1}))\n",
              "    new ResizeObserver(google.colab.output.resizeIframeToContent).observe(document.body)\n",
              "    </script>\n",
              "    "
            ]
          },
          "metadata": {},
          "execution_count": 32
        }
      ]
    },
    {
      "cell_type": "code",
      "source": [
        "%%es\n",
        "PUT customer/_doc/2\n",
        "{\n",
        "  \"name\": \"Paul McCartney\"\n",
        "}"
      ],
      "metadata": {
        "colab": {
          "base_uri": "https://localhost:8080/",
          "height": 191
        },
        "id": "lC0W3jivF0SC",
        "outputId": "857f1519-b2be-4c5a-df89-5dd75fc91876"
      },
      "execution_count": null,
      "outputs": [
        {
          "output_type": "execute_result",
          "data": {
            "text/plain": [
              "<Response [201]>"
            ],
            "text/html": [
              "\n",
              "    <script src=\"https://rawgit.com/caldwell/renderjson/master/renderjson.js\"></script>\n",
              "    <script>\n",
              "    renderjson.set_show_to_level(1)\n",
              "    document.body.appendChild(renderjson({\"_index\":\"customer\",\"_type\":\"_doc\",\"_id\":\"2\",\"_version\":1,\"result\":\"created\",\"_shards\":{\"total\":2,\"successful\":1,\"failed\":0},\"_seq_no\":1,\"_primary_term\":1}))\n",
              "    new ResizeObserver(google.colab.output.resizeIframeToContent).observe(document.body)\n",
              "    </script>\n",
              "    "
            ]
          },
          "metadata": {},
          "execution_count": 33
        }
      ]
    },
    {
      "cell_type": "markdown",
      "source": [
        "## Python JS Communication\n",
        "\n"
      ],
      "metadata": {
        "id": "y2bHa7ZZGGVB"
      }
    },
    {
      "cell_type": "markdown",
      "source": [
        "### Python invoking JS"
      ],
      "metadata": {
        "id": "1DcmeG-NGgW0"
      }
    },
    {
      "cell_type": "markdown",
      "source": [
        "#### 1. Using HTML magic to load JS as script"
      ],
      "metadata": {
        "id": "Q48orzHFGpkk"
      }
    },
    {
      "cell_type": "code",
      "source": [
        "%%html\n",
        "<script>\n",
        "document.body.append(document.createTextNode(\"Hello\"))\n",
        "</script>"
      ],
      "metadata": {
        "colab": {
          "base_uri": "https://localhost:8080/",
          "height": 34
        },
        "id": "FWcptysaGflX",
        "outputId": "b0a1586e-bc05-47da-e9cb-7208390f64aa"
      },
      "execution_count": null,
      "outputs": [
        {
          "output_type": "display_data",
          "data": {
            "text/plain": [
              "<IPython.core.display.HTML object>"
            ],
            "text/html": [
              "<script>\n",
              "document.body.append(document.createTextNode(\"Hello\"))\n",
              "</script>\n"
            ]
          },
          "metadata": {}
        }
      ]
    },
    {
      "cell_type": "markdown",
      "source": [
        "#### 2. Using IPython.display"
      ],
      "metadata": {
        "id": "4vWlTSQyGxdV"
      }
    },
    {
      "cell_type": "code",
      "source": [
        "from IPython.display import Javascript\n",
        "Javascript('document.body.append(document.createTextNode(\"Hello\"))')"
      ],
      "metadata": {
        "colab": {
          "base_uri": "https://localhost:8080/",
          "height": 34
        },
        "id": "JYNXEa4mG5vh",
        "outputId": "8812913f-12e2-413f-e503-727f4ac25f54"
      },
      "execution_count": null,
      "outputs": [
        {
          "output_type": "execute_result",
          "data": {
            "text/plain": [
              "<IPython.core.display.Javascript object>"
            ],
            "application/javascript": [
              "document.body.append(document.createTextNode(\"Hello\"))"
            ]
          },
          "metadata": {},
          "execution_count": 35
        }
      ]
    },
    {
      "cell_type": "markdown",
      "source": [
        "#### 3. Using eval_js"
      ],
      "metadata": {
        "id": "AZZJGH5cG-hs"
      }
    },
    {
      "cell_type": "code",
      "source": [
        "from google.colab.output import eval_js\n",
        "eval_js('2+2')"
      ],
      "metadata": {
        "colab": {
          "base_uri": "https://localhost:8080/",
          "height": 35
        },
        "id": "cDuYlgR0HFEY",
        "outputId": "bf02d1ed-f18b-4f75-86a6-bd3fec243972"
      },
      "execution_count": null,
      "outputs": [
        {
          "output_type": "execute_result",
          "data": {
            "text/plain": [
              "4"
            ]
          },
          "metadata": {},
          "execution_count": 36
        }
      ]
    },
    {
      "cell_type": "markdown",
      "source": [
        "### JS invoking Python"
      ],
      "metadata": {
        "id": "oDrNs3ZmHDsi"
      }
    },
    {
      "cell_type": "code",
      "source": [
        "from IPython.display import JSON\n",
        "import IPython.display as idisplay\n",
        "from google.colab import output\n",
        "\n",
        "def concat(a, b):\n",
        "  return JSON({'result': '%s %s' % (a, b)})\n",
        "\n",
        "output.register_callback('notebook.concat', concat)"
      ],
      "metadata": {
        "id": "EJH-3GPrHXWI"
      },
      "execution_count": null,
      "outputs": []
    },
    {
      "cell_type": "code",
      "source": [
        "idisplay.Javascript('''\n",
        "(async function() {\n",
        "\n",
        "  const result = await google.colab.kernel.invokeFunction(\n",
        "    'notebook.concat',\n",
        "    ['hello', 'world!'],\n",
        "    {});\n",
        "\n",
        "  const text = result.data['application/json'].result;\n",
        "\n",
        "  document.querySelector(\"#output-area\").appendChild(document.createTextNode(text))\n",
        "\n",
        "})();\n",
        "''')"
      ],
      "metadata": {
        "colab": {
          "base_uri": "https://localhost:8080/",
          "height": 34
        },
        "id": "fsyz1yj6HYIP",
        "outputId": "ea905990-1601-45b1-8c58-a1ed7204f525"
      },
      "execution_count": null,
      "outputs": [
        {
          "output_type": "execute_result",
          "data": {
            "text/plain": [
              "<IPython.core.display.Javascript object>"
            ],
            "application/javascript": [
              "\n",
              "(async function() {\n",
              "\n",
              "  const result = await google.colab.kernel.invokeFunction(\n",
              "    'notebook.concat',  \n",
              "    ['hello', 'world!'],\n",
              "    {});\n",
              "    \n",
              "  const text = result.data['application/json'].result;\n",
              "  \n",
              "  document.querySelector(\"#output-area\").appendChild(document.createTextNode(text))\n",
              "  \n",
              "})();\n"
            ]
          },
          "metadata": {},
          "execution_count": 38
        }
      ]
    },
    {
      "cell_type": "markdown",
      "source": [
        "## Take a photo using JS"
      ],
      "metadata": {
        "id": "WS4_u5-yHhrA"
      }
    },
    {
      "cell_type": "code",
      "source": [
        "from IPython.display import HTML, Image\n",
        "from google.colab.output import eval_js\n",
        "from base64 import b64decode"
      ],
      "metadata": {
        "id": "DgYrHotZHqfo"
      },
      "execution_count": null,
      "outputs": []
    },
    {
      "cell_type": "code",
      "source": [
        "VIDEO_HTML = \"\"\"\n",
        "<video autoplay\n",
        " width=800 height=600></video>\n",
        "<script>\n",
        "var video = document.querySelector('video')\n",
        "navigator.mediaDevices.getUserMedia({ video: true })\n",
        "  .then(stream=> video.srcObject = stream)\n",
        "\n",
        "var data = new Promise(resolve=>{\n",
        "  video.onclick = ()=>{\n",
        "    var canvas = document.createElement('canvas')\n",
        "    var [w,h] = [video.offsetWidth, video.offsetHeight]\n",
        "    canvas.width = w\n",
        "    canvas.height = h\n",
        "    canvas.getContext('2d')\n",
        "          .drawImage(video, 0, 0, w, h)\n",
        "    video.srcObject.getVideoTracks()[0].stop()\n",
        "    video.replaceWith(canvas)\n",
        "    resolve(canvas.toDataURL('image/jpeg', %f))\n",
        "  }\n",
        "})\n",
        "</script>\n",
        "\"\"\""
      ],
      "metadata": {
        "id": "5JAoe60eHsV-"
      },
      "execution_count": null,
      "outputs": []
    },
    {
      "cell_type": "code",
      "source": [
        "def take_photo(filename='photo.jpg', quality=0.8):\n",
        "  display(HTML(VIDEO_HTML % quality))\n",
        "  data = eval_js(\"data\")\n",
        "  binary = b64decode(data.split(',')[1])\n",
        "  with open(filename, 'wb') as f:\n",
        "    f.write(binary)\n",
        "  return len(binary)"
      ],
      "metadata": {
        "id": "iTeTkW-hHvvd"
      },
      "execution_count": null,
      "outputs": []
    },
    {
      "cell_type": "code",
      "source": [
        "take_photo()"
      ],
      "metadata": {
        "colab": {
          "base_uri": "https://localhost:8080/",
          "height": 639
        },
        "id": "GjUEbYFoHxvz",
        "outputId": "5452f6bb-d1e3-4f0d-8da0-40ca1a105f21"
      },
      "execution_count": null,
      "outputs": [
        {
          "output_type": "display_data",
          "data": {
            "text/plain": [
              "<IPython.core.display.HTML object>"
            ],
            "text/html": [
              "\n",
              "<video autoplay\n",
              " width=800 height=600></video>\n",
              "<script>\n",
              "var video = document.querySelector('video')\n",
              "navigator.mediaDevices.getUserMedia({ video: true })\n",
              "  .then(stream=> video.srcObject = stream)\n",
              "  \n",
              "var data = new Promise(resolve=>{\n",
              "  video.onclick = ()=>{\n",
              "    var canvas = document.createElement('canvas')\n",
              "    var [w,h] = [video.offsetWidth, video.offsetHeight]\n",
              "    canvas.width = w\n",
              "    canvas.height = h\n",
              "    canvas.getContext('2d')\n",
              "          .drawImage(video, 0, 0, w, h)\n",
              "    video.srcObject.getVideoTracks()[0].stop()\n",
              "    video.replaceWith(canvas)\n",
              "    resolve(canvas.toDataURL('image/jpeg', 0.800000))\n",
              "  }\n",
              "})\n",
              "</script>\n"
            ]
          },
          "metadata": {}
        },
        {
          "output_type": "execute_result",
          "data": {
            "text/plain": [
              "38635"
            ]
          },
          "metadata": {},
          "execution_count": 46
        }
      ]
    }
  ]
}